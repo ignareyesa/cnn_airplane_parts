{
  "nbformat": 4,
  "nbformat_minor": 0,
  "metadata": {
    "colab": {
      "name": "Entrenamiento.ipynb",
      "provenance": [],
      "collapsed_sections": []
    },
    "kernelspec": {
      "name": "python3",
      "display_name": "Python 3"
    },
    "language_info": {
      "name": "python"
    },
    "accelerator": "GPU"
  },
  "cells": [
    {
      "cell_type": "code",
      "execution_count": 1,
      "metadata": {
        "id": "ewnDSFU8BlFo"
      },
      "outputs": [],
      "source": [
        "%load_ext tensorboard"
      ]
    },
    {
      "cell_type": "code",
      "source": [
        "import configuration as config"
      ],
      "metadata": {
        "id": "1EiwCkpuFJM6"
      },
      "execution_count": 3,
      "outputs": []
    },
    {
      "cell_type": "code",
      "source": [
        "from os import listdir\n",
        "import pandas as pd\n",
        "import numpy as np\n",
        "from PIL import Image\n",
        "# import the necessary packages\n",
        "from tensorflow.keras.applications.vgg16 import VGG16\n",
        "from tensorflow.keras.applications.vgg16 import preprocess_input\n",
        "from tensorflow.keras.layers import Flatten\n",
        "from tensorflow.keras.layers import Dropout\n",
        "from tensorflow.keras.layers import Dense\n",
        "from tensorflow.keras.layers import Input\n",
        "from tensorflow.keras.models import Model\n",
        "from tensorflow.keras.optimizers import Adam\n",
        "from tensorflow.keras.preprocessing.image import img_to_array\n",
        "from tensorflow.keras.preprocessing.image import load_img\n",
        "from tensorflow.keras.utils import to_categorical\n",
        "from sklearn.preprocessing import LabelBinarizer\n",
        "from sklearn.model_selection import train_test_split\n",
        "import tensorflow as tf\n",
        "import datetime\n",
        "\n",
        "# from imutils import paths\n",
        "import matplotlib.pyplot as plt\n",
        "import numpy as np\n",
        "import pickle\n",
        "import cv2\n",
        "import os"
      ],
      "metadata": {
        "id": "AQdn593yBqNy"
      },
      "execution_count": 4,
      "outputs": []
    },
    {
      "cell_type": "code",
      "source": [
        "URL_DRIVE = config.URL_DRIVE\n",
        "IMAGE_PATH = config.IMAGE_PATH\n",
        "log_dir = config.LOG_DIR\n",
        "plot_path = config.PLOT_PATH\n",
        "\n",
        "output_path = config.OUTPUT_PATH\n",
        "test_size = config.TEST_SIZE_SPLIT\n",
        "\n",
        "loss_label = config.LOSS_LABEL\n",
        "loss_boundingbox = config.LOSS_BOUNDINGBOX\n",
        "loss_weights = config.LOSS_WEIGHT\n",
        "\n",
        "init_lr = config.INIT_LR\n",
        "model_metrics = config.MODEL_METRICS\n",
        "num_epochs = config.NUM_EPOCHS\n",
        "batch_size = config.BATCH_SIZE\n",
        "\n",
        "print_summary = config.PRINT_SUMMARY\n"
      ],
      "metadata": {
        "id": "lpyBkqHZB6ay"
      },
      "execution_count": 5,
      "outputs": []
    },
    {
      "cell_type": "code",
      "source": [
        "# Seleccionamos el dataset que tiene los datos\n",
        "df = pd.read_csv(f\"{URL_DRIVE}df_breve.csv\")\n",
        "df.drop(\"Unnamed: 0\", axis = 1, inplace=True)\n",
        "\n",
        "df.head(5)"
      ],
      "metadata": {
        "colab": {
          "base_uri": "https://localhost:8080/",
          "height": 268
        },
        "id": "QIrZvzm-CJfU",
        "outputId": "437cc597-9992-4d8e-a9af-daf3237083b6"
      },
      "execution_count": 6,
      "outputs": [
        {
          "output_type": "execute_result",
          "data": {
            "text/html": [
              "\n",
              "  <div id=\"df-e74a0bca-e3e7-40db-9924-308d82565916\">\n",
              "    <div class=\"colab-df-container\">\n",
              "      <div>\n",
              "<style scoped>\n",
              "    .dataframe tbody tr th:only-of-type {\n",
              "        vertical-align: middle;\n",
              "    }\n",
              "\n",
              "    .dataframe tbody tr th {\n",
              "        vertical-align: top;\n",
              "    }\n",
              "\n",
              "    .dataframe thead th {\n",
              "        text-align: right;\n",
              "    }\n",
              "</style>\n",
              "<table border=\"1\" class=\"dataframe\">\n",
              "  <thead>\n",
              "    <tr style=\"text-align: right;\">\n",
              "      <th></th>\n",
              "      <th>image</th>\n",
              "      <th>Starting x-coordinate</th>\n",
              "      <th>Starting y-coordinate</th>\n",
              "      <th>Ending x-coordinate</th>\n",
              "      <th>Ending y-coordinate</th>\n",
              "      <th>class label</th>\n",
              "    </tr>\n",
              "  </thead>\n",
              "  <tbody>\n",
              "    <tr>\n",
              "      <th>0</th>\n",
              "      <td>00001063.jpg</td>\n",
              "      <td>235</td>\n",
              "      <td>212</td>\n",
              "      <td>306</td>\n",
              "      <td>255</td>\n",
              "      <td>engine</td>\n",
              "    </tr>\n",
              "    <tr>\n",
              "      <th>1</th>\n",
              "      <td>00000259.jpg</td>\n",
              "      <td>363</td>\n",
              "      <td>411</td>\n",
              "      <td>1343</td>\n",
              "      <td>705</td>\n",
              "      <td>wing</td>\n",
              "    </tr>\n",
              "    <tr>\n",
              "      <th>2</th>\n",
              "      <td>00000901.jpg</td>\n",
              "      <td>578</td>\n",
              "      <td>86</td>\n",
              "      <td>967</td>\n",
              "      <td>359</td>\n",
              "      <td>fus</td>\n",
              "    </tr>\n",
              "    <tr>\n",
              "      <th>3</th>\n",
              "      <td>00001190.jpg</td>\n",
              "      <td>487</td>\n",
              "      <td>218</td>\n",
              "      <td>995</td>\n",
              "      <td>289</td>\n",
              "      <td>wing</td>\n",
              "    </tr>\n",
              "    <tr>\n",
              "      <th>4</th>\n",
              "      <td>00001108.png</td>\n",
              "      <td>1</td>\n",
              "      <td>7</td>\n",
              "      <td>1056</td>\n",
              "      <td>298</td>\n",
              "      <td>fus</td>\n",
              "    </tr>\n",
              "  </tbody>\n",
              "</table>\n",
              "</div>\n",
              "      <button class=\"colab-df-convert\" onclick=\"convertToInteractive('df-e74a0bca-e3e7-40db-9924-308d82565916')\"\n",
              "              title=\"Convert this dataframe to an interactive table.\"\n",
              "              style=\"display:none;\">\n",
              "        \n",
              "  <svg xmlns=\"http://www.w3.org/2000/svg\" height=\"24px\"viewBox=\"0 0 24 24\"\n",
              "       width=\"24px\">\n",
              "    <path d=\"M0 0h24v24H0V0z\" fill=\"none\"/>\n",
              "    <path d=\"M18.56 5.44l.94 2.06.94-2.06 2.06-.94-2.06-.94-.94-2.06-.94 2.06-2.06.94zm-11 1L8.5 8.5l.94-2.06 2.06-.94-2.06-.94L8.5 2.5l-.94 2.06-2.06.94zm10 10l.94 2.06.94-2.06 2.06-.94-2.06-.94-.94-2.06-.94 2.06-2.06.94z\"/><path d=\"M17.41 7.96l-1.37-1.37c-.4-.4-.92-.59-1.43-.59-.52 0-1.04.2-1.43.59L10.3 9.45l-7.72 7.72c-.78.78-.78 2.05 0 2.83L4 21.41c.39.39.9.59 1.41.59.51 0 1.02-.2 1.41-.59l7.78-7.78 2.81-2.81c.8-.78.8-2.07 0-2.86zM5.41 20L4 18.59l7.72-7.72 1.47 1.35L5.41 20z\"/>\n",
              "  </svg>\n",
              "      </button>\n",
              "      \n",
              "  <style>\n",
              "    .colab-df-container {\n",
              "      display:flex;\n",
              "      flex-wrap:wrap;\n",
              "      gap: 12px;\n",
              "    }\n",
              "\n",
              "    .colab-df-convert {\n",
              "      background-color: #E8F0FE;\n",
              "      border: none;\n",
              "      border-radius: 50%;\n",
              "      cursor: pointer;\n",
              "      display: none;\n",
              "      fill: #1967D2;\n",
              "      height: 32px;\n",
              "      padding: 0 0 0 0;\n",
              "      width: 32px;\n",
              "    }\n",
              "\n",
              "    .colab-df-convert:hover {\n",
              "      background-color: #E2EBFA;\n",
              "      box-shadow: 0px 1px 2px rgba(60, 64, 67, 0.3), 0px 1px 3px 1px rgba(60, 64, 67, 0.15);\n",
              "      fill: #174EA6;\n",
              "    }\n",
              "\n",
              "    [theme=dark] .colab-df-convert {\n",
              "      background-color: #3B4455;\n",
              "      fill: #D2E3FC;\n",
              "    }\n",
              "\n",
              "    [theme=dark] .colab-df-convert:hover {\n",
              "      background-color: #434B5C;\n",
              "      box-shadow: 0px 1px 3px 1px rgba(0, 0, 0, 0.15);\n",
              "      filter: drop-shadow(0px 1px 2px rgba(0, 0, 0, 0.3));\n",
              "      fill: #FFFFFF;\n",
              "    }\n",
              "  </style>\n",
              "\n",
              "      <script>\n",
              "        const buttonEl =\n",
              "          document.querySelector('#df-e74a0bca-e3e7-40db-9924-308d82565916 button.colab-df-convert');\n",
              "        buttonEl.style.display =\n",
              "          google.colab.kernel.accessAllowed ? 'block' : 'none';\n",
              "\n",
              "        async function convertToInteractive(key) {\n",
              "          const element = document.querySelector('#df-e74a0bca-e3e7-40db-9924-308d82565916');\n",
              "          const dataTable =\n",
              "            await google.colab.kernel.invokeFunction('convertToInteractive',\n",
              "                                                     [key], {});\n",
              "          if (!dataTable) return;\n",
              "\n",
              "          const docLinkHtml = 'Like what you see? Visit the ' +\n",
              "            '<a target=\"_blank\" href=https://colab.research.google.com/notebooks/data_table.ipynb>data table notebook</a>'\n",
              "            + ' to learn more about interactive tables.';\n",
              "          element.innerHTML = '';\n",
              "          dataTable['output_type'] = 'display_data';\n",
              "          await google.colab.output.renderOutput(dataTable, element);\n",
              "          const docLink = document.createElement('div');\n",
              "          docLink.innerHTML = docLinkHtml;\n",
              "          element.appendChild(docLink);\n",
              "        }\n",
              "      </script>\n",
              "    </div>\n",
              "  </div>\n",
              "  "
            ],
            "text/plain": [
              "          image  Starting x-coordinate  ...  Ending y-coordinate  class label\n",
              "0  00001063.jpg                    235  ...                  255       engine\n",
              "1  00000259.jpg                    363  ...                  705         wing\n",
              "2  00000901.jpg                    578  ...                  359          fus\n",
              "3  00001190.jpg                    487  ...                  289         wing\n",
              "4  00001108.png                      1  ...                  298          fus\n",
              "\n",
              "[5 rows x 6 columns]"
            ]
          },
          "metadata": {},
          "execution_count": 6
        }
      ]
    },
    {
      "cell_type": "code",
      "source": [
        "# Inicializamos la lista de datos, etiquetas y cuadros delimitadores\n",
        "print(\"[INFO] Cargando el dataset...\")\n",
        "data = []\n",
        "labels = []\n",
        "bboxes = []\n",
        "imagePaths = []\n",
        "\n",
        "for i in range(len(df)):\n",
        "\t\n",
        "\tj = df.iloc[i,:]\n",
        "\t# Escalamos el cuadro delimitador a las dimensiones de la imagen de entrada.\n",
        "\timage_url = IMAGE_PATH + j[0]\n",
        "\timage = cv2.imread(image_url)\n",
        "\t(h, w) = image.shape[:2]\n",
        "\tstartX = float(j[1]) / w\n",
        "\tstartY = float(j[2]) / h\n",
        "\tendX = float(j[3]) / w\n",
        "\tendY = float(j[4]) / h\n",
        "\n",
        "\n",
        "\timage = load_img(image_url, target_size=(224, 224))\n",
        "\timage = img_to_array(image)\n",
        "  # Cargamos los datos a las listas inicializadas antes\n",
        "\tdata.append(image)\n",
        "\tlabels.append(j[5])\n",
        "\tbboxes.append((startX, startY, endX, endY))    \n",
        "\timagePaths.append(image_url)\n",
        "\n",
        "print(\"[INFO] Hecho!\")"
      ],
      "metadata": {
        "colab": {
          "base_uri": "https://localhost:8080/"
        },
        "id": "V9k9igTsCaW4",
        "outputId": "2b109c25-356e-4bb9-98e5-84d54fc2e4b5"
      },
      "execution_count": 7,
      "outputs": [
        {
          "output_type": "stream",
          "name": "stdout",
          "text": [
            "[INFO] Cargando el dataset...\n",
            "[INFO] Hecho!\n"
          ]
        }
      ]
    },
    {
      "cell_type": "code",
      "source": [
        "# Convertimos las listas en arrays y escalamos la imagen entre [0,1]\n",
        "data = np.array(data, dtype=\"float32\") / 255.0\n",
        "labels = np.array(labels)\n",
        "bboxes = np.array(bboxes, dtype=\"float32\")\n",
        "imagePaths = np.array(imagePaths)\n",
        "# one-hot encoding en las etiquetas\n",
        "lb = LabelBinarizer()\n",
        "labels = lb.fit_transform(labels)\n",
        "if len(lb.classes_) == 2:\n",
        "\tlabels = to_categorical(labels)\n"
      ],
      "metadata": {
        "id": "nLCnYm-uD7Yb"
      },
      "execution_count": 8,
      "outputs": []
    },
    {
      "cell_type": "code",
      "source": [
        "\n",
        "# Particionamos los datos en entrenamiento y validación \n",
        "split = train_test_split(data, labels, bboxes, imagePaths,\n",
        "\ttest_size=test_size, random_state=42)\n",
        " \n",
        "(trainImages, testImages) = split[:2]\n",
        "(trainLabels, testLabels) = split[2:4]\n",
        "(trainBBoxes, testBBoxes) = split[4:6]\n",
        "(trainPaths, testPaths) = split[6:]\n",
        "# Vamos a guardar el nombre de los ficheros que vamos a usar en el conjunto de v\n",
        "# validación\n",
        "\n",
        "print(\"[INFO] saving testing image paths...\")\n",
        "f = open(f\"{output_path}test_paths.txt\", \"w\")\n",
        "f.write(\"\\n\".join(testPaths))\n",
        "f.close()\n",
        "\n",
        "# Cargamos el modelo VGG con los pesos del entrenamiento en imagenet y sin las \n",
        "# últimas capas\n",
        "vgg = VGG16(weights = \"imagenet\", include_top = False, \n",
        "            input_tensor = Input(shape=(224,224,3)))\n",
        "# Congelamos los pesos de modo que no se \"entrenen\" durante el entrenamiento\n",
        "vgg.trainable = False\n",
        "\n",
        "if print_summary:\n",
        "  vgg.summary()"
      ],
      "metadata": {
        "colab": {
          "base_uri": "https://localhost:8080/"
        },
        "id": "BUbeXEgGFOaC",
        "outputId": "8ed2b49d-eec4-425f-a5fd-1881d35550cd"
      },
      "execution_count": 9,
      "outputs": [
        {
          "output_type": "stream",
          "name": "stdout",
          "text": [
            "[INFO] saving testing image paths...\n",
            "Downloading data from https://storage.googleapis.com/tensorflow/keras-applications/vgg16/vgg16_weights_tf_dim_ordering_tf_kernels_notop.h5\n",
            "58892288/58889256 [==============================] - 3s 0us/step\n",
            "58900480/58889256 [==============================] - 3s 0us/step\n"
          ]
        }
      ]
    },
    {
      "cell_type": "code",
      "source": [
        "# Vamos a añadir más capas\n",
        "flatten = vgg.output\n",
        "flatten = Flatten()(flatten)\n",
        "\n",
        "bboxHead = Dense(32, activation=\"relu\")(flatten)\n",
        "bboxHead = Dense(4, activation=\"sigmoid\",\n",
        "\tname=\"bounding_box\")(bboxHead)\n",
        " \n",
        "softmaxHead = Dense(264, activation=\"relu\")(flatten)\n",
        "softmaxHead = Dropout(0.5)(softmaxHead)\n",
        "softmaxHead = Dense(len(lb.classes_), activation=\"softmax\",\n",
        "\tname=\"class_label\")(softmaxHead)\n",
        "\n",
        "#Juntamos todo: Modelo que acepta como input una imagen y que tiene como salida\n",
        "# las etiquetas y los cuadros delimitadores\n",
        "model = Model(inputs=vgg.input, outputs=(bboxHead, softmaxHead))\n",
        "\n",
        "# Definir un diccionario para establecer las funciones de pérdida \n",
        "losses = {\n",
        "\t\"class_label\": loss_label,\n",
        "\t\"bounding_box\": loss_boundingbox,\n",
        "}\n",
        "# Diccionario para los pesos. Mismo para los dos\n",
        "lossWeights = {\n",
        "\t\"class_label\": loss_weights,\n",
        "\t\"bounding_box\": loss_weights\n",
        "}\n",
        "# Compilamos el modelo\n",
        "opt = Adam(lr=init_lr)#config.INIT_LR)\n",
        "model.compile(loss=losses, optimizer=opt, metrics=model_metrics, loss_weights=lossWeights)\n",
        "\n",
        "# Diccionario para nuestras salidas de entrenamiento\n",
        "trainTargets = {\n",
        "\t\"class_label\": trainLabels,\n",
        "\t\"bounding_box\": trainBBoxes\n",
        "}\n",
        "# Diccionario para nuestras salidas de validación\n",
        "testTargets = {\n",
        "\t\"class_label\": testLabels,\n",
        "\t\"bounding_box\": testBBoxes\n",
        "}\n",
        "\n",
        "if print_summary:\n",
        "  print(model.summary())"
      ],
      "metadata": {
        "colab": {
          "base_uri": "https://localhost:8080/"
        },
        "id": "0KKU9ejFJPc6",
        "outputId": "f1ef906b-0b95-4810-c28a-6c3bd01a1ffb"
      },
      "execution_count": 10,
      "outputs": [
        {
          "output_type": "stream",
          "name": "stderr",
          "text": [
            "/usr/local/lib/python3.7/dist-packages/keras/optimizer_v2/adam.py:105: UserWarning: The `lr` argument is deprecated, use `learning_rate` instead.\n",
            "  super(Adam, self).__init__(name, **kwargs)\n"
          ]
        }
      ]
    },
    {
      "cell_type": "code",
      "source": [
        "tensorboard_callback = tf.keras.callbacks.TensorBoard(log_dir=log_dir, histogram_freq=1)"
      ],
      "metadata": {
        "id": "7hag4WY2L2e4"
      },
      "execution_count": 11,
      "outputs": []
    },
    {
      "cell_type": "code",
      "source": [
        "# Entrenamiento\n",
        "print(\"[INFO] training model...\")\n",
        "H = model.fit(\n",
        "\ttrainImages, trainTargets,\n",
        "\tvalidation_data = (testImages, testTargets),\n",
        "\tbatch_size = batch_size,\n",
        "\tepochs = num_epochs,\n",
        "\tverbose = 1,\n",
        "\tcallbacks = [tensorboard_callback])\n",
        "\n",
        "# Serializamos el modelo en disco\n",
        "print(\"[INFO] saving object detector model...\")\n",
        "model.save(f\"{output_path}detector.h5\", save_format = \"h5\")\n",
        "# Serializamos el binarizador de etiquetas en disco\n",
        "print(\"[INFO] saving label binarizer...\")\n",
        "f = open(f\"{output_path}lb.pickle\", \"wb\")\n",
        "f.write(pickle.dumps(lb))\n",
        "f.close()"
      ],
      "metadata": {
        "colab": {
          "base_uri": "https://localhost:8080/"
        },
        "id": "ZGPuRlfmMpXA",
        "outputId": "721019ba-d555-4420-d35a-3357bfeae335"
      },
      "execution_count": 12,
      "outputs": [
        {
          "output_type": "stream",
          "name": "stdout",
          "text": [
            "[INFO] training model...\n",
            "Epoch 1/25\n",
            "14/14 [==============================] - 37s 1s/step - loss: 1.8138 - bounding_box_loss: 0.0492 - class_label_loss: 1.7646 - bounding_box_accuracy: 0.4811 - class_label_accuracy: 0.2571 - val_loss: 1.4944 - val_bounding_box_loss: 0.0425 - val_class_label_loss: 1.4519 - val_bounding_box_accuracy: 0.6509 - val_class_label_accuracy: 0.2925\n",
            "Epoch 2/25\n",
            "14/14 [==============================] - 9s 655ms/step - loss: 1.3547 - bounding_box_loss: 0.0355 - class_label_loss: 1.3192 - bounding_box_accuracy: 0.5896 - class_label_accuracy: 0.4127 - val_loss: 1.5400 - val_bounding_box_loss: 0.0413 - val_class_label_loss: 1.4986 - val_bounding_box_accuracy: 0.6038 - val_class_label_accuracy: 0.3679\n",
            "Epoch 3/25\n",
            "14/14 [==============================] - 8s 633ms/step - loss: 1.1991 - bounding_box_loss: 0.0305 - class_label_loss: 1.1686 - bounding_box_accuracy: 0.6651 - class_label_accuracy: 0.4929 - val_loss: 1.4815 - val_bounding_box_loss: 0.0413 - val_class_label_loss: 1.4402 - val_bounding_box_accuracy: 0.6604 - val_class_label_accuracy: 0.3302\n",
            "Epoch 4/25\n",
            "14/14 [==============================] - 9s 666ms/step - loss: 1.0632 - bounding_box_loss: 0.0264 - class_label_loss: 1.0368 - bounding_box_accuracy: 0.6580 - class_label_accuracy: 0.5825 - val_loss: 1.5131 - val_bounding_box_loss: 0.0433 - val_class_label_loss: 1.4698 - val_bounding_box_accuracy: 0.5000 - val_class_label_accuracy: 0.2830\n",
            "Epoch 5/25\n",
            "14/14 [==============================] - 9s 658ms/step - loss: 0.9510 - bounding_box_loss: 0.0233 - class_label_loss: 0.9277 - bounding_box_accuracy: 0.7028 - class_label_accuracy: 0.6179 - val_loss: 1.5601 - val_bounding_box_loss: 0.0393 - val_class_label_loss: 1.5208 - val_bounding_box_accuracy: 0.6321 - val_class_label_accuracy: 0.2925\n",
            "Epoch 6/25\n",
            "14/14 [==============================] - 10s 748ms/step - loss: 0.8283 - bounding_box_loss: 0.0203 - class_label_loss: 0.8080 - bounding_box_accuracy: 0.7028 - class_label_accuracy: 0.7075 - val_loss: 1.5093 - val_bounding_box_loss: 0.0404 - val_class_label_loss: 1.4688 - val_bounding_box_accuracy: 0.6226 - val_class_label_accuracy: 0.2925\n",
            "Epoch 7/25\n",
            "14/14 [==============================] - 9s 634ms/step - loss: 0.7132 - bounding_box_loss: 0.0182 - class_label_loss: 0.6951 - bounding_box_accuracy: 0.7264 - class_label_accuracy: 0.7594 - val_loss: 1.5562 - val_bounding_box_loss: 0.0413 - val_class_label_loss: 1.5149 - val_bounding_box_accuracy: 0.6226 - val_class_label_accuracy: 0.3019\n",
            "Epoch 8/25\n",
            "14/14 [==============================] - 8s 635ms/step - loss: 0.6401 - bounding_box_loss: 0.0166 - class_label_loss: 0.6236 - bounding_box_accuracy: 0.7406 - class_label_accuracy: 0.7925 - val_loss: 1.5807 - val_bounding_box_loss: 0.0428 - val_class_label_loss: 1.5379 - val_bounding_box_accuracy: 0.5660 - val_class_label_accuracy: 0.2642\n",
            "Epoch 9/25\n",
            "14/14 [==============================] - 8s 623ms/step - loss: 0.5721 - bounding_box_loss: 0.0148 - class_label_loss: 0.5574 - bounding_box_accuracy: 0.7642 - class_label_accuracy: 0.8302 - val_loss: 1.6399 - val_bounding_box_loss: 0.0411 - val_class_label_loss: 1.5988 - val_bounding_box_accuracy: 0.6132 - val_class_label_accuracy: 0.2736\n",
            "Epoch 10/25\n",
            "14/14 [==============================] - 9s 665ms/step - loss: 0.5171 - bounding_box_loss: 0.0135 - class_label_loss: 0.5036 - bounding_box_accuracy: 0.7854 - class_label_accuracy: 0.8703 - val_loss: 1.6342 - val_bounding_box_loss: 0.0400 - val_class_label_loss: 1.5942 - val_bounding_box_accuracy: 0.5943 - val_class_label_accuracy: 0.2075\n",
            "Epoch 11/25\n",
            "14/14 [==============================] - 8s 627ms/step - loss: 0.4327 - bounding_box_loss: 0.0119 - class_label_loss: 0.4208 - bounding_box_accuracy: 0.7783 - class_label_accuracy: 0.8821 - val_loss: 1.6712 - val_bounding_box_loss: 0.0399 - val_class_label_loss: 1.6313 - val_bounding_box_accuracy: 0.5755 - val_class_label_accuracy: 0.2453\n",
            "Epoch 12/25\n",
            "14/14 [==============================] - 9s 671ms/step - loss: 0.3750 - bounding_box_loss: 0.0107 - class_label_loss: 0.3643 - bounding_box_accuracy: 0.7877 - class_label_accuracy: 0.9269 - val_loss: 1.7129 - val_bounding_box_loss: 0.0407 - val_class_label_loss: 1.6722 - val_bounding_box_accuracy: 0.5660 - val_class_label_accuracy: 0.2925\n",
            "Epoch 13/25\n",
            "14/14 [==============================] - 9s 633ms/step - loss: 0.3484 - bounding_box_loss: 0.0098 - class_label_loss: 0.3386 - bounding_box_accuracy: 0.7972 - class_label_accuracy: 0.9340 - val_loss: 1.7489 - val_bounding_box_loss: 0.0393 - val_class_label_loss: 1.7096 - val_bounding_box_accuracy: 0.6226 - val_class_label_accuracy: 0.2736\n",
            "Epoch 14/25\n",
            "14/14 [==============================] - 9s 668ms/step - loss: 0.3310 - bounding_box_loss: 0.0090 - class_label_loss: 0.3220 - bounding_box_accuracy: 0.8137 - class_label_accuracy: 0.9269 - val_loss: 1.7484 - val_bounding_box_loss: 0.0398 - val_class_label_loss: 1.7086 - val_bounding_box_accuracy: 0.5660 - val_class_label_accuracy: 0.2642\n",
            "Epoch 15/25\n",
            "14/14 [==============================] - 9s 667ms/step - loss: 0.2757 - bounding_box_loss: 0.0082 - class_label_loss: 0.2675 - bounding_box_accuracy: 0.8231 - class_label_accuracy: 0.9623 - val_loss: 1.7826 - val_bounding_box_loss: 0.0414 - val_class_label_loss: 1.7412 - val_bounding_box_accuracy: 0.5755 - val_class_label_accuracy: 0.2547\n",
            "Epoch 16/25\n",
            "14/14 [==============================] - 8s 624ms/step - loss: 0.2385 - bounding_box_loss: 0.0076 - class_label_loss: 0.2308 - bounding_box_accuracy: 0.8231 - class_label_accuracy: 0.9528 - val_loss: 1.7984 - val_bounding_box_loss: 0.0412 - val_class_label_loss: 1.7571 - val_bounding_box_accuracy: 0.5849 - val_class_label_accuracy: 0.2642\n",
            "Epoch 17/25\n",
            "14/14 [==============================] - 8s 626ms/step - loss: 0.2253 - bounding_box_loss: 0.0071 - class_label_loss: 0.2182 - bounding_box_accuracy: 0.8443 - class_label_accuracy: 0.9646 - val_loss: 1.8216 - val_bounding_box_loss: 0.0393 - val_class_label_loss: 1.7823 - val_bounding_box_accuracy: 0.5943 - val_class_label_accuracy: 0.2358\n",
            "Epoch 18/25\n",
            "14/14 [==============================] - 9s 636ms/step - loss: 0.2206 - bounding_box_loss: 0.0067 - class_label_loss: 0.2139 - bounding_box_accuracy: 0.8514 - class_label_accuracy: 0.9670 - val_loss: 1.9087 - val_bounding_box_loss: 0.0410 - val_class_label_loss: 1.8677 - val_bounding_box_accuracy: 0.5566 - val_class_label_accuracy: 0.2453\n",
            "Epoch 19/25\n",
            "14/14 [==============================] - 9s 636ms/step - loss: 0.2071 - bounding_box_loss: 0.0059 - class_label_loss: 0.2012 - bounding_box_accuracy: 0.8538 - class_label_accuracy: 0.9623 - val_loss: 1.8993 - val_bounding_box_loss: 0.0420 - val_class_label_loss: 1.8573 - val_bounding_box_accuracy: 0.5472 - val_class_label_accuracy: 0.2264\n",
            "Epoch 20/25\n",
            "14/14 [==============================] - 9s 666ms/step - loss: 0.1849 - bounding_box_loss: 0.0055 - class_label_loss: 0.1794 - bounding_box_accuracy: 0.8561 - class_label_accuracy: 0.9764 - val_loss: 1.9625 - val_bounding_box_loss: 0.0400 - val_class_label_loss: 1.9226 - val_bounding_box_accuracy: 0.5943 - val_class_label_accuracy: 0.2736\n",
            "Epoch 21/25\n",
            "14/14 [==============================] - 9s 661ms/step - loss: 0.1747 - bounding_box_loss: 0.0051 - class_label_loss: 0.1696 - bounding_box_accuracy: 0.8561 - class_label_accuracy: 0.9764 - val_loss: 1.9364 - val_bounding_box_loss: 0.0397 - val_class_label_loss: 1.8967 - val_bounding_box_accuracy: 0.6226 - val_class_label_accuracy: 0.2264\n",
            "Epoch 22/25\n",
            "14/14 [==============================] - 12s 876ms/step - loss: 0.1644 - bounding_box_loss: 0.0049 - class_label_loss: 0.1595 - bounding_box_accuracy: 0.8561 - class_label_accuracy: 0.9811 - val_loss: 2.0088 - val_bounding_box_loss: 0.0410 - val_class_label_loss: 1.9678 - val_bounding_box_accuracy: 0.5755 - val_class_label_accuracy: 0.2453\n",
            "Epoch 23/25\n",
            "14/14 [==============================] - 9s 639ms/step - loss: 0.1718 - bounding_box_loss: 0.0044 - class_label_loss: 0.1673 - bounding_box_accuracy: 0.8750 - class_label_accuracy: 0.9741 - val_loss: 1.9499 - val_bounding_box_loss: 0.0406 - val_class_label_loss: 1.9093 - val_bounding_box_accuracy: 0.6226 - val_class_label_accuracy: 0.2547\n",
            "Epoch 24/25\n",
            "14/14 [==============================] - 9s 634ms/step - loss: 0.1390 - bounding_box_loss: 0.0042 - class_label_loss: 0.1347 - bounding_box_accuracy: 0.8844 - class_label_accuracy: 0.9788 - val_loss: 1.9685 - val_bounding_box_loss: 0.0407 - val_class_label_loss: 1.9278 - val_bounding_box_accuracy: 0.6038 - val_class_label_accuracy: 0.2453\n",
            "Epoch 25/25\n",
            "14/14 [==============================] - 9s 653ms/step - loss: 0.1258 - bounding_box_loss: 0.0039 - class_label_loss: 0.1220 - bounding_box_accuracy: 0.8774 - class_label_accuracy: 0.9882 - val_loss: 1.9903 - val_bounding_box_loss: 0.0409 - val_class_label_loss: 1.9493 - val_bounding_box_accuracy: 0.5943 - val_class_label_accuracy: 0.2264\n",
            "[INFO] saving object detector model...\n",
            "[INFO] saving label binarizer...\n"
          ]
        }
      ]
    },
    {
      "cell_type": "code",
      "source": [
        "#%tensorboard --logdir log_dir"
      ],
      "metadata": {
        "id": "oAJztQtZMpeN"
      },
      "execution_count": null,
      "outputs": []
    },
    {
      "cell_type": "code",
      "source": [
        "# Graficamos la pérdida total, de la etiqueta y del cuadro delimitador\n",
        "lossNames =  [\"loss\", \"class_label_loss\", \"bounding_box_loss\"]\n",
        "N = np.arange(0, num_epochs)\n",
        "plt.style.use(\"ggplot\")\n",
        "(fig, ax) = plt.subplots(3, 1, figsize=(13, 13))\n",
        "# Iteramos para las diferentes pérdidas\n",
        "for (i, l) in enumerate(lossNames):\n",
        "\t# Pérdida para entrenamiento y validación\n",
        "\ttitle = \"Loss for {}\".format(l) if l != \"loss\" else \"Total loss\"\n",
        "\tax[i].set_title(title)\n",
        "\tax[i].set_xlabel(\"Nº Époco\")\n",
        "\tax[i].set_ylabel(\"Pérdida\")\n",
        "\tax[i].plot(N, H.history[l], label=l)\n",
        "\tax[i].plot(N, H.history[\"val_\" + l], label=\"val_\" + l)\n",
        "\tax[i].legend()\n",
        "# Guardamos \n",
        "plt.tight_layout()\n",
        "plotPath = os.path.sep.join([plot_path, \"losses.png\"])\n",
        "plt.savefig(plotPath)\n",
        "plt.close()\n",
        "\n",
        "# Figura para accuracy\n",
        "plt.style.use(\"ggplot\")\n",
        "plt.figure()\n",
        "plt.plot(N, H.history[\"class_label_accuracy\"],\n",
        "\tlabel=\"Accuracy Entrenamiento Etiqueta\")\n",
        "plt.plot(N, H.history[\"val_class_label_accuracy\"],\n",
        "\tlabel=\"Accuracy Validación Etiqueta\")\n",
        "plt.title(\"Accuracy Etiqueta\")\n",
        "plt.xlabel(\"Nº Época\")\n",
        "plt.ylabel(\"Accuracy\")\n",
        "plt.legend(loc=\"lower left\")\n",
        "# save the accuracies plot\n",
        "plotPath = os.path.sep.join([plot_path, \"accs.png\"])\n",
        "plt.savefig(plotPath)"
      ],
      "metadata": {
        "colab": {
          "base_uri": "https://localhost:8080/",
          "height": 301
        },
        "id": "Kdq1bdihPj5C",
        "outputId": "1060d294-5dc1-4d4b-f9ed-65f88acd38bc"
      },
      "execution_count": 15,
      "outputs": [
        {
          "output_type": "display_data",
          "data": {
            "image/png": "[encoded data removed]",
            "text/plain": [
              "<Figure size 432x288 with 1 Axes>"
            ]
          },
          "metadata": {}
        }
      ]
    },
    {
      "cell_type": "code",
      "source": [
        ""
      ],
      "metadata": {
        "id": "FlW9IlqrZyBd"
      },
      "execution_count": null,
      "outputs": []
    }
  ]
}