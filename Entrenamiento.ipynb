{
  "nbformat": 4,
  "nbformat_minor": 0,
  "metadata": {
    "colab": {
      "name": "Entrenamiento.ipynb",
      "provenance": [],
      "collapsed_sections": []
    },
    "kernelspec": {
      "name": "python3",
      "display_name": "Python 3"
    },
    "language_info": {
      "name": "python"
    },
    "accelerator": "GPU"
  },
  "cells": [
    {
      "cell_type": "code",
      "execution_count": null,
      "metadata": {
        "id": "ewnDSFU8BlFo"
      },
      "outputs": [],
      "source": [
        "%load_ext tensorboard"
      ]
    },
    {
      "cell_type": "code",
      "source": [
        "input(\"REMEMBER YO CHANGE CONFIGURATION FILE \\n FINE_TUNING = False \")"
      ],
      "metadata": {
        "colab": {
          "base_uri": "https://localhost:8080/",
          "height": 72
        },
        "id": "YH_EKl6nrf2S",
        "outputId": "33725ffa-28ad-4705-b84e-a477e22e5299"
      },
      "execution_count": null,
      "outputs": [
        {
          "name": "stdout",
          "output_type": "stream",
          "text": [
            "REMEMBER YO CHANGE CONFIGURATION FILE \n",
            " FINE_TUNING = False ok\n"
          ]
        },
        {
          "output_type": "execute_result",
          "data": {
            "application/vnd.google.colaboratory.intrinsic+json": {
              "type": "string"
            },
            "text/plain": [
              "'ok'"
            ]
          },
          "metadata": {},
          "execution_count": 2
        }
      ]
    },
    {
      "cell_type": "markdown",
      "source": [
        "# Importaciones"
      ],
      "metadata": {
        "id": "SqmO3ESKkXaq"
      }
    },
    {
      "cell_type": "code",
      "source": [
        "import configuration as config"
      ],
      "metadata": {
        "id": "9wUtIc1sX9rl"
      },
      "execution_count": null,
      "outputs": []
    },
    {
      "cell_type": "code",
      "source": [
        "import seaborn as sns\n",
        "from os import listdir\n",
        "import pandas as pd\n",
        "import numpy as np\n",
        "import mimetypes\n",
        "\n",
        "from PIL import Image\n",
        "# import the necessary packages\n",
        "from tensorflow.keras.applications.vgg16 import VGG16\n",
        "from tensorflow.keras.applications.vgg16 import preprocess_input\n",
        "from tensorflow.keras.layers import Flatten\n",
        "from tensorflow.keras.layers import Dropout\n",
        "from tensorflow.keras.layers import Dense\n",
        "from tensorflow.keras.layers import Input\n",
        "from tensorflow.keras.models import Model\n",
        "from tensorflow.keras.optimizers import Adam\n",
        "from tensorflow.keras.preprocessing.image import img_to_array\n",
        "from tensorflow.keras.preprocessing.image import load_img\n",
        "from tensorflow.keras.utils import to_categorical\n",
        "from sklearn.preprocessing import LabelBinarizer\n",
        "from sklearn.model_selection import train_test_split\n",
        "from sklearn.metrics import confusion_matrix\n",
        "from sklearn.metrics import classification_report\n",
        "import tensorflow as tf\n",
        "import datetime\n",
        "\n",
        "# from imutils import paths\n",
        "import matplotlib.pyplot as plt\n",
        "import numpy as np\n",
        "import pickle\n",
        "import cv2\n",
        "import os"
      ],
      "metadata": {
        "id": "ZHuahAYLX70E"
      },
      "execution_count": null,
      "outputs": []
    },
    {
      "cell_type": "code",
      "source": [
        "def plot_heatmap(y_true, y_pred, class_names, ax, title):\n",
        "  '''\n",
        "  Plotea la matriz de confusión\n",
        "  '''\n",
        "  cm = confusion_matrix(y_true, y_pred)\n",
        "  sns.heatmap(\n",
        "        cm, \n",
        "        annot=True, \n",
        "        square=True, \n",
        "        xticklabels=class_names, \n",
        "        yticklabels=class_names,\n",
        "        fmt='d', \n",
        "        cmap=plt.cm.Blues,\n",
        "        cbar=False,\n",
        "        ax=ax\n",
        "    )\n",
        "  ax.set_title(title, fontsize=16)\n",
        "  ax.set_xticklabels(ax.get_xticklabels(), rotation=45, ha=\"right\")\n",
        "  ax.set_ylabel('Etiqueta Real', fontsize=12)\n",
        "  ax.set_xlabel('Etiqueta Predicha', fontsize=12)"
      ],
      "metadata": {
        "id": "Nrw_R6NHX2eM"
      },
      "execution_count": null,
      "outputs": []
    },
    {
      "cell_type": "code",
      "source": [
        "def bb_intersection_over_union(boxA, boxB):\n",
        "  '''\n",
        "  Función para calcular la Interseción sobre la unión entre un par de cuadros\n",
        "  '''\t\n",
        "  xA = max(boxA[0], boxB[0])\n",
        "  yA = max(boxA[1], boxB[1])\n",
        "  xB = min(boxA[2], boxB[2])\n",
        "  yB = min(boxA[3], boxB[3])\n",
        "\t# compute the area of intersection rectangle\n",
        "  interArea = max(0, xB - xA + 1) * max(0, yB - yA + 1)\n",
        "\t# compute the area of both the prediction and ground-truth\n",
        "\t# rectangles\n",
        "  boxAArea = (boxA[2] - boxA[0] + 1) * (boxA[3] - boxA[1] + 1)\n",
        "  boxBArea = (boxB[2] - boxB[0] + 1) * (boxB[3] - boxB[1] + 1)\n",
        "\t# compute the intersection over union by taking the intersection\n",
        "\t# area and dividing it by the sum of prediction + ground-truth\n",
        "\t# areas - the interesection area\n",
        "  iou = interArea / float(boxAArea + boxBArea - interArea)\n",
        "\t# return the intersection over union value\n",
        "  return iou"
      ],
      "metadata": {
        "id": "3FjOlrMNX4YT"
      },
      "execution_count": null,
      "outputs": []
    },
    {
      "cell_type": "code",
      "source": [
        "URL_DRIVE = config.URL_DRIVE\n",
        "IMAGE_PATH = config.IMAGE_PATH\n",
        "log_dir = config.LOG_DIR\n",
        "plot_path = config.PLOT_PATH\n",
        "\n",
        "output_path = config.OUTPUT_PATH\n",
        "test_size = config.TEST_SIZE_SPLIT\n",
        "\n",
        "loss_label = config.LOSS_LABEL\n",
        "loss_boundingbox = config.LOSS_BOUNDINGBOX\n",
        "loss_weights = config.LOSS_WEIGHT\n",
        "\n",
        "init_lr = config.INIT_LR\n",
        "model_metrics = config.MODEL_METRICS\n",
        "num_epochs = config.NUM_EPOCHS\n",
        "batch_size = config.BATCH_SIZE\n",
        "\n",
        "print_summary = config.PRINT_SUMMARY\n"
      ],
      "metadata": {
        "id": "lpyBkqHZB6ay"
      },
      "execution_count": null,
      "outputs": []
    },
    {
      "cell_type": "code",
      "source": [
        "# Seleccionamos el dataset que tiene los datos\n",
        "df = pd.read_csv(f\"{URL_DRIVE}df_breve.csv\")\n",
        "df.drop(\"Unnamed: 0\", axis = 1, inplace=True)\n",
        "df_completo = pd.read_csv(f\"{URL_DRIVE}df.csv\")\n",
        "df_completo.drop(\"Unnamed: 0\", axis = 1, inplace=True)\n",
        "\n",
        "df.head(5)"
      ],
      "metadata": {
        "colab": {
          "base_uri": "https://localhost:8080/",
          "height": 206
        },
        "id": "QIrZvzm-CJfU",
        "outputId": "15868471-1c4e-472e-d68f-bd9b320032f1"
      },
      "execution_count": null,
      "outputs": [
        {
          "output_type": "execute_result",
          "data": {
            "text/html": [
              "\n",
              "  <div id=\"df-0e5a5e76-3760-4991-8533-f959507ef38b\">\n",
              "    <div class=\"colab-df-container\">\n",
              "      <div>\n",
              "<style scoped>\n",
              "    .dataframe tbody tr th:only-of-type {\n",
              "        vertical-align: middle;\n",
              "    }\n",
              "\n",
              "    .dataframe tbody tr th {\n",
              "        vertical-align: top;\n",
              "    }\n",
              "\n",
              "    .dataframe thead th {\n",
              "        text-align: right;\n",
              "    }\n",
              "</style>\n",
              "<table border=\"1\" class=\"dataframe\">\n",
              "  <thead>\n",
              "    <tr style=\"text-align: right;\">\n",
              "      <th></th>\n",
              "      <th>image</th>\n",
              "      <th>Starting x-coordinate</th>\n",
              "      <th>Starting y-coordinate</th>\n",
              "      <th>Ending x-coordinate</th>\n",
              "      <th>Ending y-coordinate</th>\n",
              "      <th>class label</th>\n",
              "    </tr>\n",
              "  </thead>\n",
              "  <tbody>\n",
              "    <tr>\n",
              "      <th>0</th>\n",
              "      <td>00001063.jpg</td>\n",
              "      <td>235</td>\n",
              "      <td>212</td>\n",
              "      <td>306</td>\n",
              "      <td>255</td>\n",
              "      <td>engine</td>\n",
              "    </tr>\n",
              "    <tr>\n",
              "      <th>1</th>\n",
              "      <td>00000259.jpg</td>\n",
              "      <td>363</td>\n",
              "      <td>411</td>\n",
              "      <td>1343</td>\n",
              "      <td>705</td>\n",
              "      <td>wing</td>\n",
              "    </tr>\n",
              "    <tr>\n",
              "      <th>2</th>\n",
              "      <td>00000901.jpg</td>\n",
              "      <td>578</td>\n",
              "      <td>86</td>\n",
              "      <td>967</td>\n",
              "      <td>359</td>\n",
              "      <td>fus</td>\n",
              "    </tr>\n",
              "    <tr>\n",
              "      <th>3</th>\n",
              "      <td>00001190.jpg</td>\n",
              "      <td>487</td>\n",
              "      <td>218</td>\n",
              "      <td>995</td>\n",
              "      <td>289</td>\n",
              "      <td>wing</td>\n",
              "    </tr>\n",
              "    <tr>\n",
              "      <th>4</th>\n",
              "      <td>00001108.png</td>\n",
              "      <td>1</td>\n",
              "      <td>7</td>\n",
              "      <td>1056</td>\n",
              "      <td>298</td>\n",
              "      <td>fus</td>\n",
              "    </tr>\n",
              "  </tbody>\n",
              "</table>\n",
              "</div>\n",
              "      <button class=\"colab-df-convert\" onclick=\"convertToInteractive('df-0e5a5e76-3760-4991-8533-f959507ef38b')\"\n",
              "              title=\"Convert this dataframe to an interactive table.\"\n",
              "              style=\"display:none;\">\n",
              "        \n",
              "  <svg xmlns=\"http://www.w3.org/2000/svg\" height=\"24px\"viewBox=\"0 0 24 24\"\n",
              "       width=\"24px\">\n",
              "    <path d=\"M0 0h24v24H0V0z\" fill=\"none\"/>\n",
              "    <path d=\"M18.56 5.44l.94 2.06.94-2.06 2.06-.94-2.06-.94-.94-2.06-.94 2.06-2.06.94zm-11 1L8.5 8.5l.94-2.06 2.06-.94-2.06-.94L8.5 2.5l-.94 2.06-2.06.94zm10 10l.94 2.06.94-2.06 2.06-.94-2.06-.94-.94-2.06-.94 2.06-2.06.94z\"/><path d=\"M17.41 7.96l-1.37-1.37c-.4-.4-.92-.59-1.43-.59-.52 0-1.04.2-1.43.59L10.3 9.45l-7.72 7.72c-.78.78-.78 2.05 0 2.83L4 21.41c.39.39.9.59 1.41.59.51 0 1.02-.2 1.41-.59l7.78-7.78 2.81-2.81c.8-.78.8-2.07 0-2.86zM5.41 20L4 18.59l7.72-7.72 1.47 1.35L5.41 20z\"/>\n",
              "  </svg>\n",
              "      </button>\n",
              "      \n",
              "  <style>\n",
              "    .colab-df-container {\n",
              "      display:flex;\n",
              "      flex-wrap:wrap;\n",
              "      gap: 12px;\n",
              "    }\n",
              "\n",
              "    .colab-df-convert {\n",
              "      background-color: #E8F0FE;\n",
              "      border: none;\n",
              "      border-radius: 50%;\n",
              "      cursor: pointer;\n",
              "      display: none;\n",
              "      fill: #1967D2;\n",
              "      height: 32px;\n",
              "      padding: 0 0 0 0;\n",
              "      width: 32px;\n",
              "    }\n",
              "\n",
              "    .colab-df-convert:hover {\n",
              "      background-color: #E2EBFA;\n",
              "      box-shadow: 0px 1px 2px rgba(60, 64, 67, 0.3), 0px 1px 3px 1px rgba(60, 64, 67, 0.15);\n",
              "      fill: #174EA6;\n",
              "    }\n",
              "\n",
              "    [theme=dark] .colab-df-convert {\n",
              "      background-color: #3B4455;\n",
              "      fill: #D2E3FC;\n",
              "    }\n",
              "\n",
              "    [theme=dark] .colab-df-convert:hover {\n",
              "      background-color: #434B5C;\n",
              "      box-shadow: 0px 1px 3px 1px rgba(0, 0, 0, 0.15);\n",
              "      filter: drop-shadow(0px 1px 2px rgba(0, 0, 0, 0.3));\n",
              "      fill: #FFFFFF;\n",
              "    }\n",
              "  </style>\n",
              "\n",
              "      <script>\n",
              "        const buttonEl =\n",
              "          document.querySelector('#df-0e5a5e76-3760-4991-8533-f959507ef38b button.colab-df-convert');\n",
              "        buttonEl.style.display =\n",
              "          google.colab.kernel.accessAllowed ? 'block' : 'none';\n",
              "\n",
              "        async function convertToInteractive(key) {\n",
              "          const element = document.querySelector('#df-0e5a5e76-3760-4991-8533-f959507ef38b');\n",
              "          const dataTable =\n",
              "            await google.colab.kernel.invokeFunction('convertToInteractive',\n",
              "                                                     [key], {});\n",
              "          if (!dataTable) return;\n",
              "\n",
              "          const docLinkHtml = 'Like what you see? Visit the ' +\n",
              "            '<a target=\"_blank\" href=https://colab.research.google.com/notebooks/data_table.ipynb>data table notebook</a>'\n",
              "            + ' to learn more about interactive tables.';\n",
              "          element.innerHTML = '';\n",
              "          dataTable['output_type'] = 'display_data';\n",
              "          await google.colab.output.renderOutput(dataTable, element);\n",
              "          const docLink = document.createElement('div');\n",
              "          docLink.innerHTML = docLinkHtml;\n",
              "          element.appendChild(docLink);\n",
              "        }\n",
              "      </script>\n",
              "    </div>\n",
              "  </div>\n",
              "  "
            ],
            "text/plain": [
              "          image  Starting x-coordinate  ...  Ending y-coordinate  class label\n",
              "0  00001063.jpg                    235  ...                  255       engine\n",
              "1  00000259.jpg                    363  ...                  705         wing\n",
              "2  00000901.jpg                    578  ...                  359          fus\n",
              "3  00001190.jpg                    487  ...                  289         wing\n",
              "4  00001108.png                      1  ...                  298          fus\n",
              "\n",
              "[5 rows x 6 columns]"
            ]
          },
          "metadata": {},
          "execution_count": 8
        }
      ]
    },
    {
      "cell_type": "markdown",
      "source": [
        "# Preparación"
      ],
      "metadata": {
        "id": "VDW50OHhkAA6"
      }
    },
    {
      "cell_type": "markdown",
      "source": [
        "## Datos"
      ],
      "metadata": {
        "id": "nsWayQyOZF7c"
      }
    },
    {
      "cell_type": "code",
      "source": [
        "# Inicializamos la lista de datos, etiquetas y cuadros delimitadores\n",
        "print(\"[INFO] Cargando el dataset...\")\n",
        "data = []\n",
        "labels = []\n",
        "bboxes = []\n",
        "imagePaths = []\n",
        "\n",
        "for i in range(len(df)):\n",
        "\t\n",
        "\tj = df.iloc[i,:]\n",
        "\t# Escalamos el cuadro delimitador a las dimensiones de la imagen de entrada.\n",
        "\timage_url = IMAGE_PATH + j[0]\n",
        "\timage = cv2.imread(image_url)\n",
        "\t(h, w) = image.shape[:2]\n",
        "\tstartX = float(j[1]) / w\n",
        "\tstartY = float(j[2]) / h\n",
        "\tendX = float(j[3]) / w\n",
        "\tendY = float(j[4]) / h\n",
        "\n",
        "\n",
        "\timage = load_img(image_url, target_size=(224, 224))\n",
        "\timage = img_to_array(image)\n",
        "  # Cargamos los datos a las listas inicializadas antes\n",
        "\tdata.append(image)\n",
        "\tlabels.append(j[5])\n",
        "\tbboxes.append((startX, startY, endX, endY))    \n",
        "\timagePaths.append(image_url)\n",
        "\n",
        "print(\"[INFO] Hecho!\")"
      ],
      "metadata": {
        "colab": {
          "base_uri": "https://localhost:8080/"
        },
        "id": "V9k9igTsCaW4",
        "outputId": "37368e5c-2ca6-428d-94c5-b10cf8bf5085"
      },
      "execution_count": null,
      "outputs": [
        {
          "output_type": "stream",
          "name": "stdout",
          "text": [
            "[INFO] Cargando el dataset...\n",
            "[INFO] Hecho!\n"
          ]
        }
      ]
    },
    {
      "cell_type": "code",
      "source": [
        "# Convertimos las listas en arrays y escalamos la imagen entre [0,1]\n",
        "data = np.array(data, dtype=\"float32\") / 255.0\n",
        "labels = np.array(labels)\n",
        "bboxes = np.array(bboxes, dtype=\"float32\")\n",
        "imagePaths = np.array(imagePaths)\n",
        "# one-hot encoding en las etiquetas\n",
        "lb = LabelBinarizer()\n",
        "labels = lb.fit_transform(labels)\n",
        "if len(lb.classes_) == 2:\n",
        "\tlabels = to_categorical(labels)\n"
      ],
      "metadata": {
        "id": "nLCnYm-uD7Yb"
      },
      "execution_count": null,
      "outputs": []
    },
    {
      "cell_type": "markdown",
      "source": [
        "## Modelo"
      ],
      "metadata": {
        "id": "y4JBs7KJY80l"
      }
    },
    {
      "cell_type": "code",
      "source": [
        "\n",
        "# Particionamos los datos en entrenamiento y validación \n",
        "split = train_test_split(data, labels, bboxes, imagePaths,\n",
        "\ttest_size=test_size, random_state=42)\n",
        " \n",
        "(trainImages, testImages) = split[:2]\n",
        "(trainLabels, testLabels) = split[2:4]\n",
        "(trainBBoxes, testBBoxes) = split[4:6]\n",
        "(trainPaths, testPaths) = split[6:]\n",
        "# Vamos a guardar el nombre de los ficheros que vamos a usar en el conjunto de v\n",
        "# validación\n",
        "\n",
        "print(\"[INFO] saving testing image paths...\")\n",
        "f = open(f\"{output_path}test_paths.txt\", \"w\")\n",
        "f.write(\"\\n\".join(testPaths))\n",
        "f.close()\n",
        "\n",
        "# Cargamos el modelo VGG con los pesos del entrenamiento en imagenet y sin las \n",
        "# últimas capas\n",
        "vgg = VGG16(weights = \"imagenet\", include_top = False, \n",
        "            input_tensor = Input(shape=(224,224,3)))\n",
        "# Congelamos los pesos de modo que no se \"entrenen\" durante el entrenamiento\n",
        "vgg.trainable = False\n",
        "\n",
        "if print_summary:\n",
        "  vgg.summary()"
      ],
      "metadata": {
        "colab": {
          "base_uri": "https://localhost:8080/"
        },
        "id": "BUbeXEgGFOaC",
        "outputId": "30e960f3-3930-4fff-d483-31c38613bfe1"
      },
      "execution_count": null,
      "outputs": [
        {
          "output_type": "stream",
          "name": "stdout",
          "text": [
            "[INFO] saving testing image paths...\n",
            "Downloading data from https://storage.googleapis.com/tensorflow/keras-applications/vgg16/vgg16_weights_tf_dim_ordering_tf_kernels_notop.h5\n",
            "58892288/58889256 [==============================] - 0s 0us/step\n",
            "58900480/58889256 [==============================] - 0s 0us/step\n"
          ]
        }
      ]
    },
    {
      "cell_type": "code",
      "source": [
        "# Vamos a añadir más capas\n",
        "flatten = vgg.output\n",
        "flatten = Flatten()(flatten)\n",
        "\n",
        "bboxHead = Dense(32, activation=\"relu\")(flatten)\n",
        "bboxHead = Dense(4, activation=\"sigmoid\",\n",
        "\tname=\"bounding_box\")(bboxHead)\n",
        " \n",
        "softmaxHead = Dense(256, activation=\"relu\")(flatten)\n",
        "softmaxHead = Dropout(0.5)(softmaxHead)\n",
        "softmaxHead = Dense(len(lb.classes_), activation=\"softmax\",\n",
        "\tname=\"class_label\")(softmaxHead)\n",
        "\n",
        "#Juntamos todo: Modelo que acepta como input una imagen y que tiene como salida\n",
        "# las etiquetas y los cuadros delimitadores\n",
        "model = Model(inputs=vgg.input, outputs=(bboxHead, softmaxHead))\n",
        "\n",
        "# Definir un diccionario para establecer las funciones de pérdida \n",
        "losses = {\n",
        "\t\"class_label\": loss_label,\n",
        "\t\"bounding_box\": loss_boundingbox,\n",
        "}\n",
        "# Diccionario para los pesos. Mismo para los dos\n",
        "lossWeights = {\n",
        "\t\"class_label\": loss_weights,\n",
        "\t\"bounding_box\": loss_weights\n",
        "}\n",
        "# Compilamos el modelo\n",
        "opt = Adam(lr=init_lr)#config.INIT_LR)\n",
        "model.compile(loss=losses, optimizer=opt, metrics=model_metrics, loss_weights=lossWeights)\n",
        "\n",
        "# Diccionario para nuestras salidas de entrenamiento\n",
        "trainTargets = {\n",
        "\t\"class_label\": trainLabels,\n",
        "\t\"bounding_box\": trainBBoxes\n",
        "}\n",
        "# Diccionario para nuestras salidas de validación\n",
        "testTargets = {\n",
        "\t\"class_label\": testLabels,\n",
        "\t\"bounding_box\": testBBoxes\n",
        "}\n",
        "\n",
        "if print_summary:\n",
        "  print(model.summary())"
      ],
      "metadata": {
        "colab": {
          "base_uri": "https://localhost:8080/"
        },
        "id": "0KKU9ejFJPc6",
        "outputId": "8b99d944-a775-46d6-b49f-7d6148299c3f"
      },
      "execution_count": null,
      "outputs": [
        {
          "output_type": "stream",
          "name": "stderr",
          "text": [
            "/usr/local/lib/python3.7/dist-packages/keras/optimizer_v2/adam.py:105: UserWarning: The `lr` argument is deprecated, use `learning_rate` instead.\n",
            "  super(Adam, self).__init__(name, **kwargs)\n"
          ]
        }
      ]
    },
    {
      "cell_type": "code",
      "source": [
        "tensorboard_callback = tf.keras.callbacks.TensorBoard(log_dir=log_dir, histogram_freq=1)"
      ],
      "metadata": {
        "id": "7hag4WY2L2e4"
      },
      "execution_count": null,
      "outputs": []
    },
    {
      "cell_type": "markdown",
      "source": [
        "# Entrenamiento"
      ],
      "metadata": {
        "id": "_j1tHhvFZI3c"
      }
    },
    {
      "cell_type": "code",
      "source": [
        "# Entrenamiento\n",
        "print(\"[INFO] training model...\")\n",
        "H = model.fit(\n",
        "\ttrainImages, trainTargets,\n",
        "\tvalidation_data = (testImages, testTargets),\n",
        "\tbatch_size = batch_size,\n",
        "\tepochs = num_epochs,\n",
        "\tverbose = 1,\n",
        "\tcallbacks = [tensorboard_callback])\n",
        "\n",
        "# Serializamos el modelo en disco\n",
        "print(\"[INFO] Guardando detector...\")\n",
        "model.save(f\"{output_path}detector.h5\", save_format = \"h5\")\n",
        "# Serializamos el binarizador de etiquetas en disco\n",
        "print(\"[INFO] Guardando binarizador...\")\n",
        "f = open(f\"{output_path}lb.pickle\", \"wb\")\n",
        "f.write(pickle.dumps(lb))\n",
        "f.close()"
      ],
      "metadata": {
        "colab": {
          "base_uri": "https://localhost:8080/"
        },
        "id": "ZGPuRlfmMpXA",
        "outputId": "d47cc6b8-0c7f-40be-c7f6-eded4a1159ee"
      },
      "execution_count": null,
      "outputs": [
        {
          "output_type": "stream",
          "name": "stdout",
          "text": [
            "[INFO] training model...\n",
            "Epoch 1/25\n",
            "14/14 [==============================] - 229s 16s/step - loss: 1.7116 - bounding_box_loss: 0.0526 - class_label_loss: 1.6591 - bounding_box_accuracy: 0.5047 - class_label_accuracy: 0.2382 - val_loss: 1.5034 - val_bounding_box_loss: 0.0400 - val_class_label_loss: 1.4634 - val_bounding_box_accuracy: 0.6321 - val_class_label_accuracy: 0.2642\n",
            "Epoch 2/25\n",
            "14/14 [==============================] - 214s 16s/step - loss: 1.3194 - bounding_box_loss: 0.0368 - class_label_loss: 1.2827 - bounding_box_accuracy: 0.6014 - class_label_accuracy: 0.4080 - val_loss: 1.4750 - val_bounding_box_loss: 0.0415 - val_class_label_loss: 1.4335 - val_bounding_box_accuracy: 0.5377 - val_class_label_accuracy: 0.2642\n",
            "Epoch 3/25\n",
            "14/14 [==============================] - 252s 18s/step - loss: 1.1437 - bounding_box_loss: 0.0329 - class_label_loss: 1.1109 - bounding_box_accuracy: 0.5849 - class_label_accuracy: 0.5165 - val_loss: 1.4666 - val_bounding_box_loss: 0.0389 - val_class_label_loss: 1.4276 - val_bounding_box_accuracy: 0.5566 - val_class_label_accuracy: 0.2736\n",
            "Epoch 4/25\n",
            "14/14 [==============================] - 257s 19s/step - loss: 1.0530 - bounding_box_loss: 0.0292 - class_label_loss: 1.0238 - bounding_box_accuracy: 0.6297 - class_label_accuracy: 0.5896 - val_loss: 1.5038 - val_bounding_box_loss: 0.0377 - val_class_label_loss: 1.4661 - val_bounding_box_accuracy: 0.6132 - val_class_label_accuracy: 0.2547\n",
            "Epoch 5/25\n",
            "14/14 [==============================] - 253s 18s/step - loss: 0.9250 - bounding_box_loss: 0.0261 - class_label_loss: 0.8989 - bounding_box_accuracy: 0.6462 - class_label_accuracy: 0.6627 - val_loss: 1.5527 - val_bounding_box_loss: 0.0396 - val_class_label_loss: 1.5131 - val_bounding_box_accuracy: 0.6415 - val_class_label_accuracy: 0.2453\n",
            "Epoch 6/25\n",
            "14/14 [==============================] - 253s 19s/step - loss: 0.7980 - bounding_box_loss: 0.0233 - class_label_loss: 0.7746 - bounding_box_accuracy: 0.6769 - class_label_accuracy: 0.7288 - val_loss: 1.5659 - val_bounding_box_loss: 0.0375 - val_class_label_loss: 1.5284 - val_bounding_box_accuracy: 0.6132 - val_class_label_accuracy: 0.2736\n",
            "Epoch 7/25\n",
            "14/14 [==============================] - 253s 18s/step - loss: 0.7394 - bounding_box_loss: 0.0209 - class_label_loss: 0.7186 - bounding_box_accuracy: 0.7170 - class_label_accuracy: 0.7406 - val_loss: 1.5825 - val_bounding_box_loss: 0.0389 - val_class_label_loss: 1.5435 - val_bounding_box_accuracy: 0.6509 - val_class_label_accuracy: 0.2830\n",
            "Epoch 8/25\n",
            "14/14 [==============================] - 254s 19s/step - loss: 0.6526 - bounding_box_loss: 0.0187 - class_label_loss: 0.6339 - bounding_box_accuracy: 0.7288 - class_label_accuracy: 0.7665 - val_loss: 1.5604 - val_bounding_box_loss: 0.0394 - val_class_label_loss: 1.5209 - val_bounding_box_accuracy: 0.6415 - val_class_label_accuracy: 0.2925\n",
            "Epoch 9/25\n",
            "14/14 [==============================] - 250s 18s/step - loss: 0.5654 - bounding_box_loss: 0.0167 - class_label_loss: 0.5488 - bounding_box_accuracy: 0.7406 - class_label_accuracy: 0.8443 - val_loss: 1.7212 - val_bounding_box_loss: 0.0377 - val_class_label_loss: 1.6836 - val_bounding_box_accuracy: 0.6226 - val_class_label_accuracy: 0.3113\n",
            "Epoch 10/25\n",
            "14/14 [==============================] - 218s 16s/step - loss: 0.5364 - bounding_box_loss: 0.0151 - class_label_loss: 0.5213 - bounding_box_accuracy: 0.7665 - class_label_accuracy: 0.8514 - val_loss: 1.6023 - val_bounding_box_loss: 0.0382 - val_class_label_loss: 1.5641 - val_bounding_box_accuracy: 0.6604 - val_class_label_accuracy: 0.2830\n",
            "Epoch 11/25\n",
            "14/14 [==============================] - 251s 18s/step - loss: 0.4336 - bounding_box_loss: 0.0138 - class_label_loss: 0.4198 - bounding_box_accuracy: 0.7854 - class_label_accuracy: 0.9009 - val_loss: 1.6779 - val_bounding_box_loss: 0.0392 - val_class_label_loss: 1.6387 - val_bounding_box_accuracy: 0.5943 - val_class_label_accuracy: 0.3019\n",
            "Epoch 12/25\n",
            "14/14 [==============================] - 252s 18s/step - loss: 0.3679 - bounding_box_loss: 0.0125 - class_label_loss: 0.3554 - bounding_box_accuracy: 0.7995 - class_label_accuracy: 0.9198 - val_loss: 1.7594 - val_bounding_box_loss: 0.0380 - val_class_label_loss: 1.7214 - val_bounding_box_accuracy: 0.6698 - val_class_label_accuracy: 0.3302\n",
            "Epoch 13/25\n",
            "14/14 [==============================] - 253s 18s/step - loss: 0.3460 - bounding_box_loss: 0.0114 - class_label_loss: 0.3346 - bounding_box_accuracy: 0.8066 - class_label_accuracy: 0.9080 - val_loss: 1.7054 - val_bounding_box_loss: 0.0387 - val_class_label_loss: 1.6667 - val_bounding_box_accuracy: 0.6226 - val_class_label_accuracy: 0.3019\n",
            "Epoch 14/25\n",
            "14/14 [==============================] - 212s 15s/step - loss: 0.2797 - bounding_box_loss: 0.0104 - class_label_loss: 0.2693 - bounding_box_accuracy: 0.8090 - class_label_accuracy: 0.9528 - val_loss: 1.7267 - val_bounding_box_loss: 0.0397 - val_class_label_loss: 1.6870 - val_bounding_box_accuracy: 0.6226 - val_class_label_accuracy: 0.3019\n",
            "Epoch 15/25\n",
            "14/14 [==============================] - 250s 18s/step - loss: 0.2770 - bounding_box_loss: 0.0097 - class_label_loss: 0.2673 - bounding_box_accuracy: 0.8302 - class_label_accuracy: 0.9646 - val_loss: 1.7572 - val_bounding_box_loss: 0.0385 - val_class_label_loss: 1.7187 - val_bounding_box_accuracy: 0.6132 - val_class_label_accuracy: 0.3302\n",
            "Epoch 16/25\n",
            "14/14 [==============================] - 252s 18s/step - loss: 0.2707 - bounding_box_loss: 0.0088 - class_label_loss: 0.2619 - bounding_box_accuracy: 0.8491 - class_label_accuracy: 0.9363 - val_loss: 1.8137 - val_bounding_box_loss: 0.0396 - val_class_label_loss: 1.7741 - val_bounding_box_accuracy: 0.6038 - val_class_label_accuracy: 0.2830\n",
            "Epoch 17/25\n",
            "14/14 [==============================] - 258s 19s/step - loss: 0.2176 - bounding_box_loss: 0.0081 - class_label_loss: 0.2095 - bounding_box_accuracy: 0.8514 - class_label_accuracy: 0.9835 - val_loss: 1.8191 - val_bounding_box_loss: 0.0395 - val_class_label_loss: 1.7797 - val_bounding_box_accuracy: 0.6226 - val_class_label_accuracy: 0.2264\n",
            "Epoch 18/25\n",
            "14/14 [==============================] - 252s 18s/step - loss: 0.2062 - bounding_box_loss: 0.0073 - class_label_loss: 0.1988 - bounding_box_accuracy: 0.8538 - class_label_accuracy: 0.9646 - val_loss: 1.8161 - val_bounding_box_loss: 0.0389 - val_class_label_loss: 1.7772 - val_bounding_box_accuracy: 0.6321 - val_class_label_accuracy: 0.2358\n",
            "Epoch 19/25\n",
            "14/14 [==============================] - 223s 16s/step - loss: 0.1860 - bounding_box_loss: 0.0068 - class_label_loss: 0.1793 - bounding_box_accuracy: 0.8561 - class_label_accuracy: 0.9811 - val_loss: 1.8466 - val_bounding_box_loss: 0.0396 - val_class_label_loss: 1.8070 - val_bounding_box_accuracy: 0.5849 - val_class_label_accuracy: 0.2358\n",
            "Epoch 20/25\n",
            "14/14 [==============================] - 257s 19s/step - loss: 0.1685 - bounding_box_loss: 0.0064 - class_label_loss: 0.1622 - bounding_box_accuracy: 0.8608 - class_label_accuracy: 0.9882 - val_loss: 1.8890 - val_bounding_box_loss: 0.0391 - val_class_label_loss: 1.8499 - val_bounding_box_accuracy: 0.6038 - val_class_label_accuracy: 0.2358\n",
            "Epoch 21/25\n",
            "14/14 [==============================] - 252s 18s/step - loss: 0.1745 - bounding_box_loss: 0.0059 - class_label_loss: 0.1687 - bounding_box_accuracy: 0.8797 - class_label_accuracy: 0.9646 - val_loss: 1.9229 - val_bounding_box_loss: 0.0391 - val_class_label_loss: 1.8838 - val_bounding_box_accuracy: 0.5943 - val_class_label_accuracy: 0.2736\n",
            "Epoch 22/25\n",
            "14/14 [==============================] - 212s 15s/step - loss: 0.1514 - bounding_box_loss: 0.0055 - class_label_loss: 0.1459 - bounding_box_accuracy: 0.8868 - class_label_accuracy: 0.9741 - val_loss: 1.9205 - val_bounding_box_loss: 0.0387 - val_class_label_loss: 1.8818 - val_bounding_box_accuracy: 0.6038 - val_class_label_accuracy: 0.2547\n",
            "Epoch 23/25\n",
            "14/14 [==============================] - 210s 15s/step - loss: 0.1315 - bounding_box_loss: 0.0051 - class_label_loss: 0.1264 - bounding_box_accuracy: 0.8821 - class_label_accuracy: 0.9882 - val_loss: 1.9720 - val_bounding_box_loss: 0.0393 - val_class_label_loss: 1.9327 - val_bounding_box_accuracy: 0.6038 - val_class_label_accuracy: 0.2547\n",
            "Epoch 24/25\n",
            "14/14 [==============================] - 209s 15s/step - loss: 0.1120 - bounding_box_loss: 0.0048 - class_label_loss: 0.1072 - bounding_box_accuracy: 0.8962 - class_label_accuracy: 0.9953 - val_loss: 2.0349 - val_bounding_box_loss: 0.0397 - val_class_label_loss: 1.9952 - val_bounding_box_accuracy: 0.5755 - val_class_label_accuracy: 0.2642\n",
            "Epoch 25/25\n",
            "14/14 [==============================] - 208s 15s/step - loss: 0.1179 - bounding_box_loss: 0.0044 - class_label_loss: 0.1135 - bounding_box_accuracy: 0.8962 - class_label_accuracy: 0.9858 - val_loss: 2.0393 - val_bounding_box_loss: 0.0389 - val_class_label_loss: 2.0003 - val_bounding_box_accuracy: 0.5943 - val_class_label_accuracy: 0.2358\n",
            "[INFO] Guardando detector...\n",
            "[INFO] Guardando binarizador...\n"
          ]
        }
      ]
    },
    {
      "cell_type": "code",
      "source": [
        "#%tensorboard --logdir log_dir"
      ],
      "metadata": {
        "id": "oAJztQtZMpeN"
      },
      "execution_count": null,
      "outputs": []
    },
    {
      "cell_type": "markdown",
      "source": [
        "# Resultados"
      ],
      "metadata": {
        "id": "mEjZYXd_ZNV9"
      }
    },
    {
      "cell_type": "markdown",
      "source": [
        "## Accuracy y Pérdida"
      ],
      "metadata": {
        "id": "OVTP58t7ZPpU"
      }
    },
    {
      "cell_type": "code",
      "source": [
        "# Graficamos la pérdida total, de la etiqueta y del cuadro delimitador\n",
        "lossNames =  [\"loss\", \"class_label_loss\", \"bounding_box_loss\"]\n",
        "N = np.arange(0, num_epochs)\n",
        "plt.style.use(\"ggplot\")\n",
        "(fig, ax) = plt.subplots(3, 1, figsize=(13, 13))\n",
        "# Iteramos para las diferentes pérdidas\n",
        "for (i, l) in enumerate(lossNames):\n",
        "\t# Pérdida para entrenamiento y validación\n",
        "\ttitle = \"Loss for {}\".format(l) if l != \"loss\" else \"Total loss\"\n",
        "\tax[i].set_title(title)\n",
        "\tax[i].set_xlabel(\"Nº Époco\")\n",
        "\tax[i].set_ylabel(\"Pérdida\")\n",
        "\tax[i].plot(N, H.history[l], label=l)\n",
        "\tax[i].plot(N, H.history[\"val_\" + l], label=\"val_\" + l)\n",
        "\tax[i].legend()\n",
        "# Guardamos \n",
        "plt.tight_layout()\n",
        "plotPath = os.path.sep.join([plot_path, \"losses.png\"])\n",
        "plt.savefig(plotPath)\n",
        "plt.close()\n",
        "\n",
        "# Figura para accuracy\n",
        "plt.style.use(\"ggplot\")\n",
        "plt.figure()\n",
        "plt.plot(N, H.history[\"class_label_accuracy\"],\n",
        "\tlabel=\"Accuracy Entrenamiento Etiqueta\")\n",
        "plt.plot(N, H.history[\"val_class_label_accuracy\"],\n",
        "\tlabel=\"Accuracy Validación Etiqueta\")\n",
        "plt.title(\"Accuracy Etiqueta\")\n",
        "plt.xlabel(\"Nº Época\")\n",
        "plt.ylabel(\"Accuracy\")\n",
        "plt.legend(loc=\"lower left\")\n",
        "# save the accuracies plot\n",
        "plotPath = os.path.sep.join([plot_path, \"accs.png\"])\n",
        "plt.savefig(plotPath)"
      ],
      "metadata": {
        "colab": {
          "base_uri": "https://localhost:8080/",
          "height": 301
        },
        "id": "Kdq1bdihPj5C",
        "outputId": "8e86f6f7-21ba-46da-c815-bc3573a1a9bb"
      },
      "execution_count": null,
      "outputs": [
        {
          "output_type": "display_data",
          "data": {
            "image/png": "[encoded data removed]",
            "text/plain": [
              "<Figure size 432x288 with 1 Axes>"
            ]
          },
          "metadata": {}
        }
      ]
    },
    {
      "cell_type": "markdown",
      "source": [
        "## Matriz de Confusión"
      ],
      "metadata": {
        "id": "chIQkPxcYwSs"
      }
    },
    {
      "cell_type": "code",
      "source": [
        "# Vamos a obtener el resto de métricas \n",
        "args = {}\n",
        "args[\"input\"] = f\"{output_path}test_paths.txt\"\n",
        "filetype = mimetypes.guess_type(args[\"input\"])[0]\n",
        "imagePaths = [args[\"input\"]]\n",
        "\n",
        "if \"text/plain\" == filetype:\n",
        "\t# Cargamos la ruta de cada imagen\n",
        "\timagePaths = open(args[\"input\"]).read().strip().split(\"\\n\")\n",
        "\n",
        "L_imagepath = []\n",
        "L_imagename = []\n",
        "L_box = []\n",
        "L_label = []\n",
        "# Recorremos todas las imagenes\n",
        "for imagePath in imagePaths:\n",
        "  image = load_img(imagePath, target_size=(224, 224))\n",
        "  image = img_to_array(image) / 255.0\n",
        "  image = np.expand_dims(image, axis=0)\n",
        "# Predicimos la etiqueta y el cuadro delimitador\n",
        "  (boxPreds, labelPreds) = model.predict(image)\n",
        "  (startX, startY, endX, endY) = boxPreds[0]\n",
        "\n",
        "  # Guardamos la clase con mayor probabilidad\n",
        "  i = np.argmax(labelPreds, axis=1)\n",
        "  label = lb.classes_[i][0]\n",
        "  image = cv2.imread(imagePath)\n",
        "  (h,w) = image.shape[:2]\n",
        "\n",
        "  box = [int(startX * w),int(startY * h),int(endX * w),int(endY * h),]\n",
        "  L_imagepath.append(imagePath)\n",
        "  L_imagename.append(imagePath.split(\"/\")[-1])\n",
        "  L_box.append(box)\n",
        "  L_label.append(label)\n",
        "\n",
        "\n",
        "results = {\"imagepath\":L_imagepath,\"image\":L_imagename,\"box\":L_box,\"class label\":L_label}\n",
        "results = pd.DataFrame(results)"
      ],
      "metadata": {
        "id": "FlW9IlqrZyBd"
      },
      "execution_count": null,
      "outputs": []
    },
    {
      "cell_type": "code",
      "source": [
        "y_real = []\n",
        "y_pred = []\n",
        "for i in imagePaths:\n",
        "  imagename = i.split(\"/\")[-1]\n",
        "\n",
        "  y_real.append(df[df[\"image\"]==imagename][\"class label\"].values[0])\n",
        "\n",
        "  y_pred.append(results[results[\"image\"]==imagename][\"class label\"].values[0])"
      ],
      "metadata": {
        "id": "6KfryiaiXpa9"
      },
      "execution_count": null,
      "outputs": []
    },
    {
      "cell_type": "code",
      "source": [
        "fig, ax = plt.subplots(1, 1, figsize=(10, 5))\n",
        "plot_heatmap(y_real, y_pred, lb.classes_, ax, \"Matriz de Confusión\")"
      ],
      "metadata": {
        "colab": {
          "base_uri": "https://localhost:8080/",
          "height": 382
        },
        "id": "k44y41lKYlKz",
        "outputId": "be1f08ba-30ff-467c-bb83-751cc4083379"
      },
      "execution_count": null,
      "outputs": [
        {
          "output_type": "display_data",
          "data": {
            "image/png": "[encoded data removed]",
            "text/plain": [
              "<Figure size 720x360 with 1 Axes>"
            ]
          },
          "metadata": {}
        }
      ]
    },
    {
      "cell_type": "markdown",
      "source": [
        "## Matriz de Confusión con IoU"
      ],
      "metadata": {
        "id": "uR4FULueYoiN"
      }
    },
    {
      "cell_type": "code",
      "source": [
        "filtered = df_completo.copy()\n",
        "filtered[\"box\"] = filtered[[\"Starting x-coordinate\",\"Starting y-coordinate\",\"Ending x-coordinate\",\"Ending y-coordinate\"]].values.tolist()\n",
        "filtered = filtered[[\"image\", \"box\", \"class label\"]]\n",
        "\n",
        "\n",
        "filtered = filtered.merge(results, how = \"inner\", on = \"image\", suffixes=('_true', '_pred'))\n",
        "filtered[\"iou\"] = pd.Series()\n",
        "for i in range(len(filtered)):\n",
        "  filtered.iloc[i,-1] = bb_intersection_over_union(filtered.iloc[i,1],filtered.iloc[i,4])"
      ],
      "metadata": {
        "colab": {
          "base_uri": "https://localhost:8080/"
        },
        "id": "SCJKozS2YfZD",
        "outputId": "28a1add8-f85e-4444-95cb-b19352eacfed"
      },
      "execution_count": null,
      "outputs": [
        {
          "output_type": "stream",
          "name": "stderr",
          "text": [
            "/usr/local/lib/python3.7/dist-packages/ipykernel_launcher.py:7: DeprecationWarning: The default dtype for empty Series will be 'object' instead of 'float64' in a future version. Specify a dtype explicitly to silence this warning.\n",
            "  import sys\n"
          ]
        }
      ]
    },
    {
      "cell_type": "code",
      "source": [
        "imagesnames = [i.split(\"/\")[-1] for i in imagePaths]\n",
        "imagesnames\n",
        "\n",
        "df_iou_max = pd.DataFrame()\n",
        "for i in imagesnames:\n",
        "  otro = filtered[filtered[\"image\"]==i].reset_index(drop=True)\n",
        "  df_iou_max = pd.concat([df_iou_max,pd.DataFrame(otro.iloc[otro[\"iou\"].idxmax()]).T])"
      ],
      "metadata": {
        "id": "P_hSaNGxcixt"
      },
      "execution_count": null,
      "outputs": []
    },
    {
      "cell_type": "code",
      "source": [
        "y_real_new = df_iou_max[\"class label_true\"].tolist()\n",
        "\n",
        "y_pred_new = df_iou_max[\"class label_pred\"].tolist()\n",
        "\n",
        "fig, (ax1, ax2) = plt.subplots(1, 2, figsize=(10, 5))\n",
        "plot_heatmap(y_real, y_pred, lb.classes_, ax1, \"Matriz de Confusión\")\n",
        "plot_heatmap(y_real_new, y_pred_new, lb.classes_, ax2, \"Matriz de Confusión con IoU\")\n",
        "plotPath = os.path.sep.join([plot_path, \"confu-matrix.png\"])\n",
        "plt.savefig(plotPath)"
      ],
      "metadata": {
        "colab": {
          "base_uri": "https://localhost:8080/",
          "height": 54
        },
        "id": "Ol538kbTZVKd",
        "outputId": "25b91efd-469c-4992-ab91-df2c9d63b7f8"
      },
      "execution_count": null,
      "outputs": [
        {
          "output_type": "display_data",
          "data": {
            "image/png": "[encoded data removed]",
            "text/plain": [
              "<Figure size 720x360 with 2 Axes>"
            ]
          },
          "metadata": {}
        }
      ]
    },
    {
      "cell_type": "markdown",
      "source": [
        "## Reporte de clasificación"
      ],
      "metadata": {
        "id": "1Ks2RBuqZhbN"
      }
    },
    {
      "cell_type": "code",
      "source": [
        "print(classification_report(y_real_new, y_pred_new, digits = 3))"
      ],
      "metadata": {
        "colab": {
          "base_uri": "https://localhost:8080/"
        },
        "id": "PZJpdcZpZkXo",
        "outputId": "a6a2afaa-e68c-43e3-eb82-6caf4049f54b"
      },
      "execution_count": null,
      "outputs": [
        {
          "output_type": "stream",
          "name": "stdout",
          "text": [
            "              precision    recall  f1-score   support\n",
            "\n",
            "      engine      0.194     0.778     0.311         9\n",
            "         fus      0.619     0.245     0.351        53\n",
            "    rear end      0.143     0.500     0.222         6\n",
            "        wing      0.321     0.237     0.273        38\n",
            "\n",
            "    accuracy                          0.302       106\n",
            "   macro avg      0.319     0.440     0.289       106\n",
            "weighted avg      0.449     0.302     0.312       106\n",
            "\n"
          ]
        }
      ]
    },
    {
      "cell_type": "code",
      "source": [
        "print(classification_report(y_real, y_pred, digits = 3))"
      ],
      "metadata": {
        "colab": {
          "base_uri": "https://localhost:8080/"
        },
        "id": "Hq1QeX8zZmF0",
        "outputId": "101c5e1c-5573-45e1-8712-70b87db3e016"
      },
      "execution_count": null,
      "outputs": [
        {
          "output_type": "stream",
          "name": "stdout",
          "text": [
            "              precision    recall  f1-score   support\n",
            "\n",
            "      engine      0.306     0.333     0.319        33\n",
            "         fus      0.190     0.154     0.170        26\n",
            "    rear end      0.190     0.174     0.182        23\n",
            "        wing      0.214     0.250     0.231        24\n",
            "\n",
            "    accuracy                          0.236       106\n",
            "   macro avg      0.225     0.228     0.225       106\n",
            "weighted avg      0.232     0.236     0.233       106\n",
            "\n"
          ]
        }
      ]
    }
  ]
}