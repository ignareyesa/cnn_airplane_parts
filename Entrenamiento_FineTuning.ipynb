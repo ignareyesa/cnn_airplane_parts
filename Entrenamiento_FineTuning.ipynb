{
  "nbformat": 4,
  "nbformat_minor": 0,
  "metadata": {
    "colab": {
      "name": "Entrenamiento-FineTuning.ipynb",
      "provenance": [],
      "collapsed_sections": []
    },
    "kernelspec": {
      "name": "python3",
      "display_name": "Python 3"
    },
    "language_info": {
      "name": "python"
    },
    "accelerator": "GPU"
  },
  "cells": [
    {
      "cell_type": "code",
      "execution_count": 1,
      "metadata": {
        "id": "ewnDSFU8BlFo"
      },
      "outputs": [],
      "source": [
        "%load_ext tensorboard"
      ]
    },
    {
      "cell_type": "code",
      "source": [
        "input(\"REMEMBER YO CHANGE CONFIGURATION FILE \\n FINE_TUNING = True \")"
      ],
      "metadata": {
        "id": "gJIHgrNGrU04"
      },
      "execution_count": null,
      "outputs": []
    },
    {
      "cell_type": "code",
      "source": [
        "import configuration as config"
      ],
      "metadata": {
        "id": "9wUtIc1sX9rl"
      },
      "execution_count": 2,
      "outputs": []
    },
    {
      "cell_type": "code",
      "source": [
        "import seaborn as sns\n",
        "from os import listdir\n",
        "import pandas as pd\n",
        "import numpy as np\n",
        "import mimetypes\n",
        "\n",
        "from PIL import Image\n",
        "# import the necessary packages\n",
        "from tensorflow.keras.applications.vgg16 import VGG16\n",
        "from tensorflow.keras.applications.vgg16 import preprocess_input\n",
        "from tensorflow.keras.layers import Flatten\n",
        "from tensorflow.keras.layers import Dropout\n",
        "from tensorflow.keras.layers import Dense\n",
        "from tensorflow.keras.layers import Input\n",
        "from tensorflow.keras.models import Model\n",
        "from tensorflow.keras.optimizers import Adam\n",
        "from tensorflow.keras.preprocessing.image import img_to_array\n",
        "from tensorflow.keras.preprocessing.image import load_img\n",
        "from tensorflow.keras.utils import to_categorical\n",
        "from sklearn.preprocessing import LabelBinarizer\n",
        "from sklearn.model_selection import train_test_split\n",
        "from sklearn.metrics import confusion_matrix\n",
        "from sklearn.metrics import classification_report\n",
        "import tensorflow as tf\n",
        "import datetime\n",
        "\n",
        "# from imutils import paths\n",
        "import matplotlib.pyplot as plt\n",
        "import numpy as np\n",
        "import pickle\n",
        "import cv2\n",
        "import os"
      ],
      "metadata": {
        "id": "ZHuahAYLX70E"
      },
      "execution_count": 3,
      "outputs": []
    },
    {
      "cell_type": "code",
      "source": [
        "def plot_heatmap(y_true, y_pred, class_names, ax, title):\n",
        "  '''\n",
        "  Plotea la matriz de confusión\n",
        "  '''\n",
        "  cm = confusion_matrix(y_true, y_pred)\n",
        "  sns.heatmap(\n",
        "        cm, \n",
        "        annot=True, \n",
        "        square=True, \n",
        "        xticklabels=class_names, \n",
        "        yticklabels=class_names,\n",
        "        fmt='d', \n",
        "        cmap=plt.cm.Blues,\n",
        "        cbar=False,\n",
        "        ax=ax\n",
        "    )\n",
        "  ax.set_title(title, fontsize=16)\n",
        "  ax.set_xticklabels(ax.get_xticklabels(), rotation=45, ha=\"right\")\n",
        "  ax.set_ylabel('Etiqueta Real', fontsize=12)\n",
        "  ax.set_xlabel('Etiqueta Predicha', fontsize=12)"
      ],
      "metadata": {
        "id": "Nrw_R6NHX2eM"
      },
      "execution_count": 4,
      "outputs": []
    },
    {
      "cell_type": "code",
      "source": [
        "def bb_intersection_over_union(boxA, boxB):\n",
        "  '''\n",
        "  Función para calcular la Interseción sobre la unión entre un par de cuadros\n",
        "  '''\t\n",
        "  xA = max(boxA[0], boxB[0])\n",
        "  yA = max(boxA[1], boxB[1])\n",
        "  xB = min(boxA[2], boxB[2])\n",
        "  yB = min(boxA[3], boxB[3])\n",
        "\t# compute the area of intersection rectangle\n",
        "  interArea = max(0, xB - xA + 1) * max(0, yB - yA + 1)\n",
        "\t# compute the area of both the prediction and ground-truth\n",
        "\t# rectangles\n",
        "  boxAArea = (boxA[2] - boxA[0] + 1) * (boxA[3] - boxA[1] + 1)\n",
        "  boxBArea = (boxB[2] - boxB[0] + 1) * (boxB[3] - boxB[1] + 1)\n",
        "\t# compute the intersection over union by taking the intersection\n",
        "\t# area and dividing it by the sum of prediction + ground-truth\n",
        "\t# areas - the interesection area\n",
        "  iou = interArea / float(boxAArea + boxBArea - interArea)\n",
        "\t# return the intersection over union value\n",
        "  return iou"
      ],
      "metadata": {
        "id": "3FjOlrMNX4YT"
      },
      "execution_count": 5,
      "outputs": []
    },
    {
      "cell_type": "code",
      "source": [
        "URL_DRIVE = config.URL_DRIVE\n",
        "IMAGE_PATH = config.IMAGE_PATH\n",
        "log_dir = config.LOG_DIR\n",
        "plot_path = config.PLOT_PATH\n",
        "\n",
        "output_path = config.OUTPUT_PATH\n",
        "test_size = config.TEST_SIZE_SPLIT\n",
        "\n",
        "loss_label = config.LOSS_LABEL\n",
        "loss_boundingbox = config.LOSS_BOUNDINGBOX\n",
        "loss_weights = config.LOSS_WEIGHT\n",
        "\n",
        "init_lr = config.INIT_LR\n",
        "model_metrics = config.MODEL_METRICS\n",
        "num_epochs = config.NUM_EPOCHS\n",
        "batch_size = config.BATCH_SIZE\n",
        "\n",
        "print_summary = config.PRINT_SUMMARY\n"
      ],
      "metadata": {
        "id": "lpyBkqHZB6ay"
      },
      "execution_count": 6,
      "outputs": []
    },
    {
      "cell_type": "code",
      "source": [
        "# Seleccionamos el dataset que tiene los datos\n",
        "df = pd.read_csv(f\"{URL_DRIVE}df_breve.csv\")\n",
        "df.drop(\"Unnamed: 0\", axis = 1, inplace=True)\n",
        "df_completo = pd.read_csv(f\"{URL_DRIVE}df.csv\")\n",
        "df_completo.drop(\"Unnamed: 0\", axis = 1, inplace=True)\n",
        "\n",
        "df.head(5)"
      ],
      "metadata": {
        "colab": {
          "base_uri": "https://localhost:8080/",
          "height": 268
        },
        "id": "QIrZvzm-CJfU",
        "outputId": "64816b18-f530-471b-9386-52a0e6fb955c"
      },
      "execution_count": 7,
      "outputs": [
        {
          "output_type": "execute_result",
          "data": {
            "text/html": [
              "\n",
              "  <div id=\"df-c1eef549-3e05-431d-9474-48cecb6248e4\">\n",
              "    <div class=\"colab-df-container\">\n",
              "      <div>\n",
              "<style scoped>\n",
              "    .dataframe tbody tr th:only-of-type {\n",
              "        vertical-align: middle;\n",
              "    }\n",
              "\n",
              "    .dataframe tbody tr th {\n",
              "        vertical-align: top;\n",
              "    }\n",
              "\n",
              "    .dataframe thead th {\n",
              "        text-align: right;\n",
              "    }\n",
              "</style>\n",
              "<table border=\"1\" class=\"dataframe\">\n",
              "  <thead>\n",
              "    <tr style=\"text-align: right;\">\n",
              "      <th></th>\n",
              "      <th>image</th>\n",
              "      <th>Starting x-coordinate</th>\n",
              "      <th>Starting y-coordinate</th>\n",
              "      <th>Ending x-coordinate</th>\n",
              "      <th>Ending y-coordinate</th>\n",
              "      <th>class label</th>\n",
              "    </tr>\n",
              "  </thead>\n",
              "  <tbody>\n",
              "    <tr>\n",
              "      <th>0</th>\n",
              "      <td>00001063.jpg</td>\n",
              "      <td>235</td>\n",
              "      <td>212</td>\n",
              "      <td>306</td>\n",
              "      <td>255</td>\n",
              "      <td>engine</td>\n",
              "    </tr>\n",
              "    <tr>\n",
              "      <th>1</th>\n",
              "      <td>00000259.jpg</td>\n",
              "      <td>363</td>\n",
              "      <td>411</td>\n",
              "      <td>1343</td>\n",
              "      <td>705</td>\n",
              "      <td>wing</td>\n",
              "    </tr>\n",
              "    <tr>\n",
              "      <th>2</th>\n",
              "      <td>00000901.jpg</td>\n",
              "      <td>578</td>\n",
              "      <td>86</td>\n",
              "      <td>967</td>\n",
              "      <td>359</td>\n",
              "      <td>fus</td>\n",
              "    </tr>\n",
              "    <tr>\n",
              "      <th>3</th>\n",
              "      <td>00001190.jpg</td>\n",
              "      <td>487</td>\n",
              "      <td>218</td>\n",
              "      <td>995</td>\n",
              "      <td>289</td>\n",
              "      <td>wing</td>\n",
              "    </tr>\n",
              "    <tr>\n",
              "      <th>4</th>\n",
              "      <td>00001108.png</td>\n",
              "      <td>1</td>\n",
              "      <td>7</td>\n",
              "      <td>1056</td>\n",
              "      <td>298</td>\n",
              "      <td>fus</td>\n",
              "    </tr>\n",
              "  </tbody>\n",
              "</table>\n",
              "</div>\n",
              "      <button class=\"colab-df-convert\" onclick=\"convertToInteractive('df-c1eef549-3e05-431d-9474-48cecb6248e4')\"\n",
              "              title=\"Convert this dataframe to an interactive table.\"\n",
              "              style=\"display:none;\">\n",
              "        \n",
              "  <svg xmlns=\"http://www.w3.org/2000/svg\" height=\"24px\"viewBox=\"0 0 24 24\"\n",
              "       width=\"24px\">\n",
              "    <path d=\"M0 0h24v24H0V0z\" fill=\"none\"/>\n",
              "    <path d=\"M18.56 5.44l.94 2.06.94-2.06 2.06-.94-2.06-.94-.94-2.06-.94 2.06-2.06.94zm-11 1L8.5 8.5l.94-2.06 2.06-.94-2.06-.94L8.5 2.5l-.94 2.06-2.06.94zm10 10l.94 2.06.94-2.06 2.06-.94-2.06-.94-.94-2.06-.94 2.06-2.06.94z\"/><path d=\"M17.41 7.96l-1.37-1.37c-.4-.4-.92-.59-1.43-.59-.52 0-1.04.2-1.43.59L10.3 9.45l-7.72 7.72c-.78.78-.78 2.05 0 2.83L4 21.41c.39.39.9.59 1.41.59.51 0 1.02-.2 1.41-.59l7.78-7.78 2.81-2.81c.8-.78.8-2.07 0-2.86zM5.41 20L4 18.59l7.72-7.72 1.47 1.35L5.41 20z\"/>\n",
              "  </svg>\n",
              "      </button>\n",
              "      \n",
              "  <style>\n",
              "    .colab-df-container {\n",
              "      display:flex;\n",
              "      flex-wrap:wrap;\n",
              "      gap: 12px;\n",
              "    }\n",
              "\n",
              "    .colab-df-convert {\n",
              "      background-color: #E8F0FE;\n",
              "      border: none;\n",
              "      border-radius: 50%;\n",
              "      cursor: pointer;\n",
              "      display: none;\n",
              "      fill: #1967D2;\n",
              "      height: 32px;\n",
              "      padding: 0 0 0 0;\n",
              "      width: 32px;\n",
              "    }\n",
              "\n",
              "    .colab-df-convert:hover {\n",
              "      background-color: #E2EBFA;\n",
              "      box-shadow: 0px 1px 2px rgba(60, 64, 67, 0.3), 0px 1px 3px 1px rgba(60, 64, 67, 0.15);\n",
              "      fill: #174EA6;\n",
              "    }\n",
              "\n",
              "    [theme=dark] .colab-df-convert {\n",
              "      background-color: #3B4455;\n",
              "      fill: #D2E3FC;\n",
              "    }\n",
              "\n",
              "    [theme=dark] .colab-df-convert:hover {\n",
              "      background-color: #434B5C;\n",
              "      box-shadow: 0px 1px 3px 1px rgba(0, 0, 0, 0.15);\n",
              "      filter: drop-shadow(0px 1px 2px rgba(0, 0, 0, 0.3));\n",
              "      fill: #FFFFFF;\n",
              "    }\n",
              "  </style>\n",
              "\n",
              "      <script>\n",
              "        const buttonEl =\n",
              "          document.querySelector('#df-c1eef549-3e05-431d-9474-48cecb6248e4 button.colab-df-convert');\n",
              "        buttonEl.style.display =\n",
              "          google.colab.kernel.accessAllowed ? 'block' : 'none';\n",
              "\n",
              "        async function convertToInteractive(key) {\n",
              "          const element = document.querySelector('#df-c1eef549-3e05-431d-9474-48cecb6248e4');\n",
              "          const dataTable =\n",
              "            await google.colab.kernel.invokeFunction('convertToInteractive',\n",
              "                                                     [key], {});\n",
              "          if (!dataTable) return;\n",
              "\n",
              "          const docLinkHtml = 'Like what you see? Visit the ' +\n",
              "            '<a target=\"_blank\" href=https://colab.research.google.com/notebooks/data_table.ipynb>data table notebook</a>'\n",
              "            + ' to learn more about interactive tables.';\n",
              "          element.innerHTML = '';\n",
              "          dataTable['output_type'] = 'display_data';\n",
              "          await google.colab.output.renderOutput(dataTable, element);\n",
              "          const docLink = document.createElement('div');\n",
              "          docLink.innerHTML = docLinkHtml;\n",
              "          element.appendChild(docLink);\n",
              "        }\n",
              "      </script>\n",
              "    </div>\n",
              "  </div>\n",
              "  "
            ],
            "text/plain": [
              "          image  Starting x-coordinate  ...  Ending y-coordinate  class label\n",
              "0  00001063.jpg                    235  ...                  255       engine\n",
              "1  00000259.jpg                    363  ...                  705         wing\n",
              "2  00000901.jpg                    578  ...                  359          fus\n",
              "3  00001190.jpg                    487  ...                  289         wing\n",
              "4  00001108.png                      1  ...                  298          fus\n",
              "\n",
              "[5 rows x 6 columns]"
            ]
          },
          "metadata": {},
          "execution_count": 7
        }
      ]
    },
    {
      "cell_type": "markdown",
      "source": [
        "# Warm-up"
      ],
      "metadata": {
        "id": "2M2XtR4IY4oV"
      }
    },
    {
      "cell_type": "markdown",
      "source": [
        "## Preparación"
      ],
      "metadata": {
        "id": "VDW50OHhkAA6"
      }
    },
    {
      "cell_type": "markdown",
      "source": [
        "### Datos"
      ],
      "metadata": {
        "id": "nsWayQyOZF7c"
      }
    },
    {
      "cell_type": "code",
      "source": [
        "# Inicializamos la lista de datos, etiquetas y cuadros delimitadores\n",
        "print(\"[INFO] Cargando el dataset...\")\n",
        "data = []\n",
        "labels = []\n",
        "bboxes = []\n",
        "imagePaths = []\n",
        "\n",
        "for i in range(len(df)):\n",
        "\t\n",
        "\tj = df.iloc[i,:]\n",
        "\t# Escalamos el cuadro delimitador a las dimensiones de la imagen de entrada.\n",
        "\timage_url = IMAGE_PATH + j[0]\n",
        "\timage = cv2.imread(image_url)\n",
        "\t(h, w) = image.shape[:2]\n",
        "\tstartX = float(j[1]) / w\n",
        "\tstartY = float(j[2]) / h\n",
        "\tendX = float(j[3]) / w\n",
        "\tendY = float(j[4]) / h\n",
        "\n",
        "\n",
        "\timage = load_img(image_url, target_size=(224, 224))\n",
        "\timage = img_to_array(image)\n",
        "  # Cargamos los datos a las listas inicializadas antes\n",
        "\tdata.append(image)\n",
        "\tlabels.append(j[5])\n",
        "\tbboxes.append((startX, startY, endX, endY))    \n",
        "\timagePaths.append(image_url)\n",
        "\n",
        "print(\"[INFO] Hecho!\")"
      ],
      "metadata": {
        "colab": {
          "base_uri": "https://localhost:8080/"
        },
        "id": "V9k9igTsCaW4",
        "outputId": "d702dca1-dd39-46fe-e93a-1aa3fb3d09d7"
      },
      "execution_count": 8,
      "outputs": [
        {
          "output_type": "stream",
          "name": "stdout",
          "text": [
            "[INFO] Cargando el dataset...\n",
            "[INFO] Hecho!\n"
          ]
        }
      ]
    },
    {
      "cell_type": "code",
      "source": [
        "# Convertimos las listas en arrays y escalamos la imagen entre [0,1]\n",
        "data = np.array(data, dtype=\"float32\") / 255.0\n",
        "labels = np.array(labels)\n",
        "bboxes = np.array(bboxes, dtype=\"float32\")\n",
        "imagePaths = np.array(imagePaths)\n",
        "# one-hot encoding en las etiquetas\n",
        "lb = LabelBinarizer()\n",
        "labels = lb.fit_transform(labels)\n",
        "if len(lb.classes_) == 2:\n",
        "\tlabels = to_categorical(labels)\n"
      ],
      "metadata": {
        "id": "nLCnYm-uD7Yb"
      },
      "execution_count": 9,
      "outputs": []
    },
    {
      "cell_type": "markdown",
      "source": [
        "### Modelo"
      ],
      "metadata": {
        "id": "y4JBs7KJY80l"
      }
    },
    {
      "cell_type": "code",
      "source": [
        "\n",
        "# Particionamos los datos en entrenamiento y validación \n",
        "split = train_test_split(data, labels, bboxes, imagePaths,\n",
        "\ttest_size=test_size, random_state=42)\n",
        " \n",
        "(trainImages, testImages) = split[:2]\n",
        "(trainLabels, testLabels) = split[2:4]\n",
        "(trainBBoxes, testBBoxes) = split[4:6]\n",
        "(trainPaths, testPaths) = split[6:]\n",
        "# Vamos a guardar el nombre de los ficheros que vamos a usar en el conjunto de v\n",
        "# validación\n",
        "\n",
        "print(\"[INFO] saving testing image paths...\")\n",
        "f = open(f\"{output_path}test_paths.txt\", \"w\")\n",
        "f.write(\"\\n\".join(testPaths))\n",
        "f.close()\n",
        "\n",
        "# Cargamos el modelo VGG con los pesos del entrenamiento en imagenet y sin las \n",
        "# últimas capas\n",
        "vgg = VGG16(weights = \"imagenet\", include_top = False, \n",
        "            input_tensor = Input(shape=(224,224,3)))\n",
        "# Congelamos los pesos de modo que no se \"entrenen\" durante el entrenamiento\n",
        "vgg.trainable = False\n",
        "\n",
        "if print_summary:\n",
        "  vgg.summary()"
      ],
      "metadata": {
        "colab": {
          "base_uri": "https://localhost:8080/"
        },
        "id": "BUbeXEgGFOaC",
        "outputId": "df96f3b5-7529-424e-89e7-637b972997ef"
      },
      "execution_count": 10,
      "outputs": [
        {
          "output_type": "stream",
          "name": "stdout",
          "text": [
            "[INFO] saving testing image paths...\n"
          ]
        }
      ]
    },
    {
      "cell_type": "code",
      "source": [
        "# Vamos a añadir más capas\n",
        "flatten = vgg.output\n",
        "flatten = Flatten()(flatten)\n",
        "\n",
        "bboxHead = Dense(32, activation=\"relu\")(flatten)\n",
        "bboxHead = Dense(4, activation=\"sigmoid\",\n",
        "\tname=\"bounding_box\")(bboxHead)\n",
        " \n",
        "softmaxHead = Dense(512, activation=\"relu\")(flatten)\n",
        "softmaxHead = Dropout(0.5)(softmaxHead)\n",
        "softmaxHead = Dense(len(lb.classes_), activation=\"softmax\",\n",
        "\tname=\"class_label\")(softmaxHead)\n",
        "\n",
        "#Juntamos todo: Modelo que acepta como input una imagen y que tiene como salida\n",
        "# las etiquetas y los cuadros delimitadores\n",
        "model = Model(inputs=vgg.input, outputs=(bboxHead, softmaxHead))\n",
        "\n",
        "# Definir un diccionario para establecer las funciones de pérdida \n",
        "losses = {\n",
        "\t\"class_label\": loss_label,\n",
        "\t\"bounding_box\": loss_boundingbox,\n",
        "}\n",
        "# Diccionario para los pesos. Mismo para los dos\n",
        "lossWeights = {\n",
        "\t\"class_label\": loss_weights,\n",
        "\t\"bounding_box\": loss_weights\n",
        "}\n",
        "# Compilamos el modelo\n",
        "opt = Adam(lr=init_lr)#config.INIT_LR)\n",
        "model.compile(loss=losses, optimizer=opt, metrics=model_metrics, loss_weights=lossWeights)\n",
        "\n",
        "# Diccionario para nuestras salidas de entrenamiento\n",
        "trainTargets = {\n",
        "\t\"class_label\": trainLabels,\n",
        "\t\"bounding_box\": trainBBoxes\n",
        "}\n",
        "# Diccionario para nuestras salidas de validación\n",
        "testTargets = {\n",
        "\t\"class_label\": testLabels,\n",
        "\t\"bounding_box\": testBBoxes\n",
        "}\n",
        "\n",
        "if print_summary:\n",
        "  print(model.summary())"
      ],
      "metadata": {
        "colab": {
          "base_uri": "https://localhost:8080/"
        },
        "id": "0KKU9ejFJPc6",
        "outputId": "3f7eed4f-2d1d-4532-a3e5-fb855c589928"
      },
      "execution_count": 11,
      "outputs": [
        {
          "output_type": "stream",
          "name": "stderr",
          "text": [
            "/usr/local/lib/python3.7/dist-packages/keras/optimizer_v2/adam.py:105: UserWarning: The `lr` argument is deprecated, use `learning_rate` instead.\n",
            "  super(Adam, self).__init__(name, **kwargs)\n"
          ]
        }
      ]
    },
    {
      "cell_type": "markdown",
      "source": [
        "## Entrenamiento"
      ],
      "metadata": {
        "id": "_j1tHhvFZI3c"
      }
    },
    {
      "cell_type": "code",
      "source": [
        "# Entrenamiento\n",
        "print(\"[INFO] training model...\")\n",
        "H = model.fit(\n",
        "\ttrainImages, trainTargets,\n",
        "\tvalidation_data = (testImages, testTargets),\n",
        "\tbatch_size = batch_size,\n",
        "\tepochs = num_epochs,\n",
        "\tverbose = 1)\n",
        "\n",
        "# Serializamos el modelo en disco\n",
        "print(\"[INFO] Guardando detector...\")\n",
        "model.save(f\"{output_path}detector-warmup.h5\", save_format = \"h5\")\n",
        "# Serializamos el binarizador de etiquetas en disco\n",
        "print(\"[INFO] Guardando binarizador...\")\n",
        "f = open(f\"{output_path}lb-warmup.pickle\", \"wb\")\n",
        "f.write(pickle.dumps(lb))\n",
        "f.close()"
      ],
      "metadata": {
        "colab": {
          "base_uri": "https://localhost:8080/"
        },
        "id": "ZGPuRlfmMpXA",
        "outputId": "297315c3-c4c7-41f0-b948-fbb4c8ef4e17"
      },
      "execution_count": 12,
      "outputs": [
        {
          "output_type": "stream",
          "name": "stdout",
          "text": [
            "[INFO] training model...\n",
            "Epoch 1/25\n",
            "14/14 [==============================] - 25s 866ms/step - loss: 1.9662 - bounding_box_loss: 0.0465 - class_label_loss: 1.9197 - bounding_box_accuracy: 0.4835 - class_label_accuracy: 0.2830 - val_loss: 1.6049 - val_bounding_box_loss: 0.0397 - val_class_label_loss: 1.5652 - val_bounding_box_accuracy: 0.6321 - val_class_label_accuracy: 0.2170\n",
            "Epoch 2/25\n",
            "14/14 [==============================] - 4s 313ms/step - loss: 1.4278 - bounding_box_loss: 0.0374 - class_label_loss: 1.3905 - bounding_box_accuracy: 0.6274 - class_label_accuracy: 0.3962 - val_loss: 1.5231 - val_bounding_box_loss: 0.0412 - val_class_label_loss: 1.4818 - val_bounding_box_accuracy: 0.5755 - val_class_label_accuracy: 0.2547\n",
            "Epoch 3/25\n",
            "14/14 [==============================] - 4s 305ms/step - loss: 1.1007 - bounding_box_loss: 0.0325 - class_label_loss: 1.0682 - bounding_box_accuracy: 0.6509 - class_label_accuracy: 0.5495 - val_loss: 1.5577 - val_bounding_box_loss: 0.0410 - val_class_label_loss: 1.5167 - val_bounding_box_accuracy: 0.5849 - val_class_label_accuracy: 0.2358\n",
            "Epoch 4/25\n",
            "14/14 [==============================] - 4s 299ms/step - loss: 0.9487 - bounding_box_loss: 0.0279 - class_label_loss: 0.9208 - bounding_box_accuracy: 0.7099 - class_label_accuracy: 0.6179 - val_loss: 1.5780 - val_bounding_box_loss: 0.0382 - val_class_label_loss: 1.5399 - val_bounding_box_accuracy: 0.6509 - val_class_label_accuracy: 0.2264\n",
            "Epoch 5/25\n",
            "14/14 [==============================] - 4s 299ms/step - loss: 0.8354 - bounding_box_loss: 0.0243 - class_label_loss: 0.8111 - bounding_box_accuracy: 0.7241 - class_label_accuracy: 0.6840 - val_loss: 1.6454 - val_bounding_box_loss: 0.0397 - val_class_label_loss: 1.6058 - val_bounding_box_accuracy: 0.6415 - val_class_label_accuracy: 0.2547\n",
            "Epoch 6/25\n",
            "14/14 [==============================] - 4s 300ms/step - loss: 0.7353 - bounding_box_loss: 0.0230 - class_label_loss: 0.7123 - bounding_box_accuracy: 0.7382 - class_label_accuracy: 0.7665 - val_loss: 1.5939 - val_bounding_box_loss: 0.0404 - val_class_label_loss: 1.5535 - val_bounding_box_accuracy: 0.6038 - val_class_label_accuracy: 0.2642\n",
            "Epoch 7/25\n",
            "14/14 [==============================] - 4s 300ms/step - loss: 0.6012 - bounding_box_loss: 0.0194 - class_label_loss: 0.5818 - bounding_box_accuracy: 0.7429 - class_label_accuracy: 0.8066 - val_loss: 1.6374 - val_bounding_box_loss: 0.0394 - val_class_label_loss: 1.5979 - val_bounding_box_accuracy: 0.6321 - val_class_label_accuracy: 0.2736\n",
            "Epoch 8/25\n",
            "14/14 [==============================] - 4s 302ms/step - loss: 0.5187 - bounding_box_loss: 0.0165 - class_label_loss: 0.5022 - bounding_box_accuracy: 0.7830 - class_label_accuracy: 0.8703 - val_loss: 1.7357 - val_bounding_box_loss: 0.0396 - val_class_label_loss: 1.6961 - val_bounding_box_accuracy: 0.5755 - val_class_label_accuracy: 0.2925\n",
            "Epoch 9/25\n",
            "14/14 [==============================] - 4s 300ms/step - loss: 0.4631 - bounding_box_loss: 0.0150 - class_label_loss: 0.4481 - bounding_box_accuracy: 0.7830 - class_label_accuracy: 0.8774 - val_loss: 1.8219 - val_bounding_box_loss: 0.0416 - val_class_label_loss: 1.7803 - val_bounding_box_accuracy: 0.5283 - val_class_label_accuracy: 0.3019\n",
            "Epoch 10/25\n",
            "14/14 [==============================] - 4s 301ms/step - loss: 0.4016 - bounding_box_loss: 0.0137 - class_label_loss: 0.3879 - bounding_box_accuracy: 0.8042 - class_label_accuracy: 0.8962 - val_loss: 1.6853 - val_bounding_box_loss: 0.0393 - val_class_label_loss: 1.6461 - val_bounding_box_accuracy: 0.6321 - val_class_label_accuracy: 0.2453\n",
            "Epoch 11/25\n",
            "14/14 [==============================] - 4s 301ms/step - loss: 0.3325 - bounding_box_loss: 0.0117 - class_label_loss: 0.3208 - bounding_box_accuracy: 0.8231 - class_label_accuracy: 0.9387 - val_loss: 1.7838 - val_bounding_box_loss: 0.0383 - val_class_label_loss: 1.7455 - val_bounding_box_accuracy: 0.6132 - val_class_label_accuracy: 0.2642\n",
            "Epoch 12/25\n",
            "14/14 [==============================] - 4s 301ms/step - loss: 0.3153 - bounding_box_loss: 0.0112 - class_label_loss: 0.3041 - bounding_box_accuracy: 0.8137 - class_label_accuracy: 0.9410 - val_loss: 1.7387 - val_bounding_box_loss: 0.0380 - val_class_label_loss: 1.7007 - val_bounding_box_accuracy: 0.6321 - val_class_label_accuracy: 0.2642\n",
            "Epoch 13/25\n",
            "14/14 [==============================] - 4s 305ms/step - loss: 0.2519 - bounding_box_loss: 0.0096 - class_label_loss: 0.2423 - bounding_box_accuracy: 0.8467 - class_label_accuracy: 0.9575 - val_loss: 1.8413 - val_bounding_box_loss: 0.0393 - val_class_label_loss: 1.8020 - val_bounding_box_accuracy: 0.6226 - val_class_label_accuracy: 0.2358\n",
            "Epoch 14/25\n",
            "14/14 [==============================] - 4s 300ms/step - loss: 0.2349 - bounding_box_loss: 0.0083 - class_label_loss: 0.2266 - bounding_box_accuracy: 0.8443 - class_label_accuracy: 0.9670 - val_loss: 1.8780 - val_bounding_box_loss: 0.0384 - val_class_label_loss: 1.8396 - val_bounding_box_accuracy: 0.6038 - val_class_label_accuracy: 0.2453\n",
            "Epoch 15/25\n",
            "14/14 [==============================] - 4s 300ms/step - loss: 0.2242 - bounding_box_loss: 0.0078 - class_label_loss: 0.2164 - bounding_box_accuracy: 0.8538 - class_label_accuracy: 0.9741 - val_loss: 1.8668 - val_bounding_box_loss: 0.0396 - val_class_label_loss: 1.8272 - val_bounding_box_accuracy: 0.5943 - val_class_label_accuracy: 0.2453\n",
            "Epoch 16/25\n",
            "14/14 [==============================] - 4s 300ms/step - loss: 0.1990 - bounding_box_loss: 0.0070 - class_label_loss: 0.1920 - bounding_box_accuracy: 0.8632 - class_label_accuracy: 0.9693 - val_loss: 1.8911 - val_bounding_box_loss: 0.0405 - val_class_label_loss: 1.8506 - val_bounding_box_accuracy: 0.5943 - val_class_label_accuracy: 0.2453\n",
            "Epoch 17/25\n",
            "14/14 [==============================] - 4s 300ms/step - loss: 0.1610 - bounding_box_loss: 0.0063 - class_label_loss: 0.1547 - bounding_box_accuracy: 0.8821 - class_label_accuracy: 0.9858 - val_loss: 1.9827 - val_bounding_box_loss: 0.0390 - val_class_label_loss: 1.9437 - val_bounding_box_accuracy: 0.5849 - val_class_label_accuracy: 0.2453\n",
            "Epoch 18/25\n",
            "14/14 [==============================] - 4s 302ms/step - loss: 0.1553 - bounding_box_loss: 0.0057 - class_label_loss: 0.1496 - bounding_box_accuracy: 0.8939 - class_label_accuracy: 0.9811 - val_loss: 1.9518 - val_bounding_box_loss: 0.0390 - val_class_label_loss: 1.9128 - val_bounding_box_accuracy: 0.5755 - val_class_label_accuracy: 0.2170\n",
            "Epoch 19/25\n",
            "14/14 [==============================] - 4s 300ms/step - loss: 0.1508 - bounding_box_loss: 0.0052 - class_label_loss: 0.1457 - bounding_box_accuracy: 0.8915 - class_label_accuracy: 0.9858 - val_loss: 1.9861 - val_bounding_box_loss: 0.0392 - val_class_label_loss: 1.9469 - val_bounding_box_accuracy: 0.5849 - val_class_label_accuracy: 0.2642\n",
            "Epoch 20/25\n",
            "14/14 [==============================] - 4s 301ms/step - loss: 0.1226 - bounding_box_loss: 0.0047 - class_label_loss: 0.1179 - bounding_box_accuracy: 0.8868 - class_label_accuracy: 0.9858 - val_loss: 2.0072 - val_bounding_box_loss: 0.0393 - val_class_label_loss: 1.9679 - val_bounding_box_accuracy: 0.5566 - val_class_label_accuracy: 0.2358\n",
            "Epoch 21/25\n",
            "14/14 [==============================] - 4s 302ms/step - loss: 0.1210 - bounding_box_loss: 0.0042 - class_label_loss: 0.1168 - bounding_box_accuracy: 0.8939 - class_label_accuracy: 0.9811 - val_loss: 2.1631 - val_bounding_box_loss: 0.0398 - val_class_label_loss: 2.1233 - val_bounding_box_accuracy: 0.5849 - val_class_label_accuracy: 0.2925\n",
            "Epoch 22/25\n",
            "14/14 [==============================] - 4s 302ms/step - loss: 0.1444 - bounding_box_loss: 0.0039 - class_label_loss: 0.1404 - bounding_box_accuracy: 0.8939 - class_label_accuracy: 0.9811 - val_loss: 2.0846 - val_bounding_box_loss: 0.0398 - val_class_label_loss: 2.0448 - val_bounding_box_accuracy: 0.5755 - val_class_label_accuracy: 0.2547\n",
            "Epoch 23/25\n",
            "14/14 [==============================] - 4s 300ms/step - loss: 0.1555 - bounding_box_loss: 0.0036 - class_label_loss: 0.1519 - bounding_box_accuracy: 0.9057 - class_label_accuracy: 0.9717 - val_loss: 2.0767 - val_bounding_box_loss: 0.0397 - val_class_label_loss: 2.0370 - val_bounding_box_accuracy: 0.5566 - val_class_label_accuracy: 0.2358\n",
            "Epoch 24/25\n",
            "14/14 [==============================] - 4s 302ms/step - loss: 0.1241 - bounding_box_loss: 0.0032 - class_label_loss: 0.1209 - bounding_box_accuracy: 0.9057 - class_label_accuracy: 0.9858 - val_loss: 2.3631 - val_bounding_box_loss: 0.0402 - val_class_label_loss: 2.3229 - val_bounding_box_accuracy: 0.5566 - val_class_label_accuracy: 0.2170\n",
            "Epoch 25/25\n",
            "14/14 [==============================] - 4s 300ms/step - loss: 0.1130 - bounding_box_loss: 0.0030 - class_label_loss: 0.1100 - bounding_box_accuracy: 0.9269 - class_label_accuracy: 0.9835 - val_loss: 2.0696 - val_bounding_box_loss: 0.0408 - val_class_label_loss: 2.0289 - val_bounding_box_accuracy: 0.5660 - val_class_label_accuracy: 0.2642\n",
            "[INFO] Guardando detector...\n",
            "[INFO] Guardando binarizador...\n"
          ]
        }
      ]
    },
    {
      "cell_type": "code",
      "source": [
        "#%tensorboard --logdir log_dir"
      ],
      "metadata": {
        "id": "oAJztQtZMpeN"
      },
      "execution_count": 13,
      "outputs": []
    },
    {
      "cell_type": "markdown",
      "source": [
        "## Resultados"
      ],
      "metadata": {
        "id": "mEjZYXd_ZNV9"
      }
    },
    {
      "cell_type": "markdown",
      "source": [
        "### Accuracy y Pérdida"
      ],
      "metadata": {
        "id": "OVTP58t7ZPpU"
      }
    },
    {
      "cell_type": "code",
      "source": [
        "# Graficamos la pérdida total, de la etiqueta y del cuadro delimitador\n",
        "lossNames =  [\"loss\", \"class_label_loss\", \"bounding_box_loss\"]\n",
        "N = np.arange(0, num_epochs)\n",
        "plt.style.use(\"ggplot\")\n",
        "(fig, ax) = plt.subplots(3, 1, figsize=(13, 13))\n",
        "# Iteramos para las diferentes pérdidas\n",
        "for (i, l) in enumerate(lossNames):\n",
        "\t# Pérdida para entrenamiento y validación\n",
        "\ttitle = \"Loss for {}\".format(l) if l != \"loss\" else \"Total loss\"\n",
        "\tax[i].set_title(title)\n",
        "\tax[i].set_xlabel(\"Nº Époco\")\n",
        "\tax[i].set_ylabel(\"Pérdida\")\n",
        "\tax[i].plot(N, H.history[l], label=l)\n",
        "\tax[i].plot(N, H.history[\"val_\" + l], label=\"val_\" + l)\n",
        "\tax[i].legend()\n",
        "# Guardamos \n",
        "plt.tight_layout()\n",
        "plotPath = os.path.sep.join([plot_path, \"losses-warmup.png\"])\n",
        "plt.savefig(plotPath)\n",
        "plt.close()\n",
        "\n",
        "# Figura para accuracy\n",
        "plt.style.use(\"ggplot\")\n",
        "plt.figure()\n",
        "plt.plot(N, H.history[\"class_label_accuracy\"],\n",
        "\tlabel=\"Accuracy Entrenamiento Etiqueta\")\n",
        "plt.plot(N, H.history[\"val_class_label_accuracy\"],\n",
        "\tlabel=\"Accuracy Validación Etiqueta\")\n",
        "plt.title(\"Accuracy Etiqueta\")\n",
        "plt.xlabel(\"Nº Época\")\n",
        "plt.ylabel(\"Accuracy\")\n",
        "plt.legend(loc=\"lower left\")\n",
        "# save the accuracies plot\n",
        "plotPath = os.path.sep.join([plot_path, \"accs-warmup.png\"])\n",
        "plt.savefig(plotPath)"
      ],
      "metadata": {
        "colab": {
          "base_uri": "https://localhost:8080/",
          "height": 301
        },
        "id": "Kdq1bdihPj5C",
        "outputId": "4cf860cc-e4f8-46ae-9d96-86fc6c723251"
      },
      "execution_count": 14,
      "outputs": [
        {
          "output_type": "display_data",
          "data": {
            "image/png": "[encoded data removed]",
            "text/plain": [
              "<Figure size 432x288 with 1 Axes>"
            ]
          },
          "metadata": {}
        }
      ]
    },
    {
      "cell_type": "markdown",
      "source": [
        "### Matriz de Confusión\n"
      ],
      "metadata": {
        "id": "chIQkPxcYwSs"
      }
    },
    {
      "cell_type": "code",
      "source": [
        "# Vamos a obtener el resto de métricas \n",
        "args = {}\n",
        "args[\"input\"] = f\"{output_path}test_paths.txt\"\n",
        "filetype = mimetypes.guess_type(args[\"input\"])[0]\n",
        "imagePaths = [args[\"input\"]]\n",
        "\n",
        "if \"text/plain\" == filetype:\n",
        "\t# Cargamos la ruta de cada imagen\n",
        "\timagePaths = open(args[\"input\"]).read().strip().split(\"\\n\")\n",
        "\n",
        "L_imagepath = []\n",
        "L_imagename = []\n",
        "L_box = []\n",
        "L_label = []\n",
        "# Recorremos todas las imagenes\n",
        "for imagePath in imagePaths:\n",
        "  image = load_img(imagePath, target_size=(224, 224))\n",
        "  image = img_to_array(image) / 255.0\n",
        "  image = np.expand_dims(image, axis=0)\n",
        "# Predicimos la etiqueta y el cuadro delimitador\n",
        "  (boxPreds, labelPreds) = model.predict(image)\n",
        "  (startX, startY, endX, endY) = boxPreds[0]\n",
        "\n",
        "  # Guardamos la clase con mayor probabilidad\n",
        "  i = np.argmax(labelPreds, axis=1)\n",
        "  label = lb.classes_[i][0]\n",
        "  image = cv2.imread(imagePath)\n",
        "  (h,w) = image.shape[:2]\n",
        "\n",
        "  box = [int(startX * w),int(startY * h),int(endX * w),int(endY * h),]\n",
        "  L_imagepath.append(imagePath)\n",
        "  L_imagename.append(imagePath.split(\"/\")[-1])\n",
        "  L_box.append(box)\n",
        "  L_label.append(label)\n",
        "\n",
        "\n",
        "results = {\"imagepath\":L_imagepath,\"image\":L_imagename,\"box\":L_box,\"class label\":L_label}\n",
        "results = pd.DataFrame(results)"
      ],
      "metadata": {
        "id": "FlW9IlqrZyBd"
      },
      "execution_count": 15,
      "outputs": []
    },
    {
      "cell_type": "code",
      "source": [
        "y_real = []\n",
        "y_pred = []\n",
        "for i in imagePaths:\n",
        "  imagename = i.split(\"/\")[-1]\n",
        "\n",
        "  y_real.append(df[df[\"image\"]==imagename][\"class label\"].values[0])\n",
        "\n",
        "  y_pred.append(results[results[\"image\"]==imagename][\"class label\"].values[0])"
      ],
      "metadata": {
        "id": "6KfryiaiXpa9"
      },
      "execution_count": 16,
      "outputs": []
    },
    {
      "cell_type": "code",
      "source": [
        "fig, ax = plt.subplots(1, 1, figsize=(10, 5))\n",
        "plot_heatmap(y_real, y_pred, lb.classes_, ax, \"Matriz de Confusión\")"
      ],
      "metadata": {
        "colab": {
          "base_uri": "https://localhost:8080/",
          "height": 382
        },
        "id": "k44y41lKYlKz",
        "outputId": "82cc8de3-bf5c-4f31-bf6b-bd7273beb744"
      },
      "execution_count": 17,
      "outputs": [
        {
          "output_type": "display_data",
          "data": {
            "image/png": "[encoded data removed]",
            "text/plain": [
              "<Figure size 720x360 with 1 Axes>"
            ]
          },
          "metadata": {}
        }
      ]
    },
    {
      "cell_type": "markdown",
      "source": [
        "### Matriz de Confusión con IoU"
      ],
      "metadata": {
        "id": "uR4FULueYoiN"
      }
    },
    {
      "cell_type": "code",
      "source": [
        "filtered = df_completo.copy()\n",
        "filtered[\"box\"] = filtered[[\"Starting x-coordinate\",\"Starting y-coordinate\",\"Ending x-coordinate\",\"Ending y-coordinate\"]].values.tolist()\n",
        "filtered = filtered[[\"image\", \"box\", \"class label\"]]\n",
        "\n",
        "\n",
        "filtered = filtered.merge(results, how = \"inner\", on = \"image\", suffixes=('_true', '_pred'))\n",
        "filtered[\"iou\"] = pd.Series()\n",
        "for i in range(len(filtered)):\n",
        "  filtered.iloc[i,-1] = bb_intersection_over_union(filtered.iloc[i,1],filtered.iloc[i,4])"
      ],
      "metadata": {
        "colab": {
          "base_uri": "https://localhost:8080/"
        },
        "id": "SCJKozS2YfZD",
        "outputId": "705403c8-e2bb-4713-d766-7d461d1e1f25"
      },
      "execution_count": 18,
      "outputs": [
        {
          "output_type": "stream",
          "name": "stderr",
          "text": [
            "/usr/local/lib/python3.7/dist-packages/ipykernel_launcher.py:7: DeprecationWarning: The default dtype for empty Series will be 'object' instead of 'float64' in a future version. Specify a dtype explicitly to silence this warning.\n",
            "  import sys\n"
          ]
        }
      ]
    },
    {
      "cell_type": "code",
      "source": [
        "imagesnames = [i.split(\"/\")[-1] for i in imagePaths]\n",
        "imagesnames\n",
        "\n",
        "df_iou_max = pd.DataFrame()\n",
        "for i in imagesnames:\n",
        "  otro = filtered[filtered[\"image\"]==i].reset_index(drop=True)\n",
        "  df_iou_max = pd.concat([df_iou_max,pd.DataFrame(otro.iloc[otro[\"iou\"].idxmax()]).T])"
      ],
      "metadata": {
        "id": "P_hSaNGxcixt"
      },
      "execution_count": 19,
      "outputs": []
    },
    {
      "cell_type": "code",
      "source": [
        "y_real_new = df_iou_max[\"class label_true\"].tolist()\n",
        "\n",
        "y_pred_new = df_iou_max[\"class label_pred\"].tolist()\n",
        "\n",
        "fig, (ax1, ax2) = plt.subplots(1, 2, figsize=(10, 5))\n",
        "plot_heatmap(y_real, y_pred, lb.classes_, ax1, \"Matriz de Confusión\")\n",
        "plot_heatmap(y_real_new, y_pred_new, lb.classes_, ax2, \"Matriz de Confusión con IoU\")\n",
        "plotPath = os.path.sep.join([plot_path, \"confu-matrix_warmup.png\"])\n",
        "plt.savefig(plotPath)"
      ],
      "metadata": {
        "colab": {
          "base_uri": "https://localhost:8080/",
          "height": 363
        },
        "id": "Ol538kbTZVKd",
        "outputId": "dcc9875f-dc1e-441b-b484-e029d4dbacd0"
      },
      "execution_count": 20,
      "outputs": [
        {
          "output_type": "display_data",
          "data": {
            "image/png": "[encoded data removed]",
            "text/plain": [
              "<Figure size 720x360 with 2 Axes>"
            ]
          },
          "metadata": {}
        }
      ]
    },
    {
      "cell_type": "markdown",
      "source": [
        "### Reporte de clasificación"
      ],
      "metadata": {
        "id": "1Ks2RBuqZhbN"
      }
    },
    {
      "cell_type": "code",
      "source": [
        "print(classification_report(y_real_new, y_pred_new, digits = 3))"
      ],
      "metadata": {
        "colab": {
          "base_uri": "https://localhost:8080/"
        },
        "id": "PZJpdcZpZkXo",
        "outputId": "a7c5181d-a9f8-48fb-f8f5-1778daafab41"
      },
      "execution_count": 21,
      "outputs": [
        {
          "output_type": "stream",
          "name": "stdout",
          "text": [
            "              precision    recall  f1-score   support\n",
            "\n",
            "      engine      0.206     0.700     0.318        10\n",
            "         fus      0.429     0.293     0.348        41\n",
            "    rear end      0.350     0.389     0.368        18\n",
            "        wing      0.375     0.243     0.295        37\n",
            "\n",
            "    accuracy                          0.330       106\n",
            "   macro avg      0.340     0.406     0.332       106\n",
            "weighted avg      0.376     0.330     0.330       106\n",
            "\n"
          ]
        }
      ]
    },
    {
      "cell_type": "code",
      "source": [
        "print(classification_report(y_real, y_pred, digits = 3))"
      ],
      "metadata": {
        "colab": {
          "base_uri": "https://localhost:8080/"
        },
        "id": "Hq1QeX8zZmF0",
        "outputId": "c720bd71-d346-45e8-93b4-3b842a9863b1"
      },
      "execution_count": 22,
      "outputs": [
        {
          "output_type": "stream",
          "name": "stdout",
          "text": [
            "              precision    recall  f1-score   support\n",
            "\n",
            "      engine      0.324     0.333     0.328        33\n",
            "         fus      0.179     0.192     0.185        26\n",
            "    rear end      0.350     0.304     0.326        23\n",
            "        wing      0.208     0.208     0.208        24\n",
            "\n",
            "    accuracy                          0.264       106\n",
            "   macro avg      0.265     0.260     0.262       106\n",
            "weighted avg      0.268     0.264     0.265       106\n",
            "\n"
          ]
        }
      ]
    },
    {
      "cell_type": "markdown",
      "source": [
        "# Fine-Tuning"
      ],
      "metadata": {
        "id": "Qn2fkLo9eJgp"
      }
    },
    {
      "cell_type": "markdown",
      "source": [
        "## Preparación"
      ],
      "metadata": {
        "id": "rq4It9Ivk1Ki"
      }
    },
    {
      "cell_type": "markdown",
      "source": [
        "### Modelo"
      ],
      "metadata": {
        "id": "SJ0B9JFfk6JK"
      }
    },
    {
      "cell_type": "code",
      "source": [
        "# Ahora ya tenemos una red entrenada/inicializada, vamos a descongelar algunas \n",
        "# capas más\n",
        "for layer in vgg.layers[15:]:\n",
        "\tlayer.trainable = True\n",
        "# Vamos a ver cual está entrenada y cual no\n",
        "for layer in vgg.layers:\n",
        "\tprint(\"{}: {}\".format(layer, layer.trainable))\n",
        " \n",
        "if print_summary:\n",
        "  print(vgg.summary())"
      ],
      "metadata": {
        "id": "ht9Hb_QEclO9",
        "colab": {
          "base_uri": "https://localhost:8080/"
        },
        "outputId": "e493f12e-0305-40d4-9134-57b7af27e646"
      },
      "execution_count": 23,
      "outputs": [
        {
          "output_type": "stream",
          "name": "stdout",
          "text": [
            "<keras.engine.input_layer.InputLayer object at 0x7f7c0e8a5890>: False\n",
            "<keras.layers.convolutional.Conv2D object at 0x7f7c0e8a5790>: False\n",
            "<keras.layers.convolutional.Conv2D object at 0x7f7c0df160d0>: False\n",
            "<keras.layers.pooling.MaxPooling2D object at 0x7f7c0decb250>: False\n",
            "<keras.layers.convolutional.Conv2D object at 0x7f7c00163310>: False\n",
            "<keras.layers.convolutional.Conv2D object at 0x7f7c00168290>: False\n",
            "<keras.layers.pooling.MaxPooling2D object at 0x7f7c00168390>: False\n",
            "<keras.layers.convolutional.Conv2D object at 0x7f7c00163d90>: False\n",
            "<keras.layers.convolutional.Conv2D object at 0x7f7c001714d0>: False\n",
            "<keras.layers.convolutional.Conv2D object at 0x7f7c0017b1d0>: False\n",
            "<keras.layers.pooling.MaxPooling2D object at 0x7f7c001808d0>: False\n",
            "<keras.layers.convolutional.Conv2D object at 0x7f7c001786d0>: False\n",
            "<keras.layers.convolutional.Conv2D object at 0x7f7c00182490>: False\n",
            "<keras.layers.convolutional.Conv2D object at 0x7f7c0def6dd0>: False\n",
            "<keras.layers.pooling.MaxPooling2D object at 0x7f7c0010bdd0>: False\n",
            "<keras.layers.convolutional.Conv2D object at 0x7f7c00107750>: True\n",
            "<keras.layers.convolutional.Conv2D object at 0x7f7c001108d0>: True\n",
            "<keras.layers.convolutional.Conv2D object at 0x7f7c00117b10>: True\n",
            "<keras.layers.pooling.MaxPooling2D object at 0x7f7c001106d0>: True\n"
          ]
        }
      ]
    },
    {
      "cell_type": "code",
      "source": [
        "# Para que los cambios tengan efecto, el modelo se tiene que volver a compilar\n",
        "print(\"[INFO] Re-compilando el modelo\")\n",
        "\n",
        "model.compile(loss=losses, optimizer=opt, metrics=model_metrics, loss_weights=lossWeights)"
      ],
      "metadata": {
        "colab": {
          "base_uri": "https://localhost:8080/"
        },
        "id": "91LayL-8kze1",
        "outputId": "3def5a87-7d41-457f-8f23-574060991e2c"
      },
      "execution_count": 24,
      "outputs": [
        {
          "output_type": "stream",
          "name": "stdout",
          "text": [
            "[INFO] Re-compilando el modelo\n"
          ]
        }
      ]
    },
    {
      "cell_type": "code",
      "source": [
        "tensorboard_callback = tf.keras.callbacks.TensorBoard(log_dir=log_dir, histogram_freq=1)"
      ],
      "metadata": {
        "id": "SQyebREipPj6"
      },
      "execution_count": 25,
      "outputs": []
    },
    {
      "cell_type": "markdown",
      "source": [
        "## Entrenamiento"
      ],
      "metadata": {
        "id": "4B6b9y3bk8Fa"
      }
    },
    {
      "cell_type": "code",
      "source": [
        "# Entrenamos de nuevo, ahora se entrenará tanto lo\n",
        "H = model.fit(\n",
        "\ttrainImages, trainTargets,\n",
        "\tvalidation_data = (testImages, testTargets),\n",
        "\tbatch_size = batch_size,\n",
        "\tepochs = num_epochs,\n",
        "\tverbose = 1,\n",
        "\tcallbacks = [tensorboard_callback])\n",
        "\n",
        "# Serializamos el modelo en disco\n",
        "print(\"[INFO] Guardando detector...\")\n",
        "model.save(f\"{output_path}detector.h5\", save_format = \"h5\")\n",
        "# Serializamos el binarizador de etiquetas en disco\n",
        "print(\"[INFO] Guardando binarizador...\")\n",
        "f = open(f\"{output_path}lb.pickle\", \"wb\")\n",
        "f.write(pickle.dumps(lb))\n",
        "f.close()"
      ],
      "metadata": {
        "colab": {
          "base_uri": "https://localhost:8080/"
        },
        "id": "GQjEWSaIgVD7",
        "outputId": "b5662a6c-a931-47c4-a327-03cc6da9354b"
      },
      "execution_count": 26,
      "outputs": [
        {
          "output_type": "stream",
          "name": "stdout",
          "text": [
            "Epoch 1/25\n",
            "14/14 [==============================] - 14s 864ms/step - loss: 0.9637 - bounding_box_loss: 0.0208 - class_label_loss: 0.9429 - bounding_box_accuracy: 0.7406 - class_label_accuracy: 0.6415 - val_loss: 2.2927 - val_bounding_box_loss: 0.0450 - val_class_label_loss: 2.2477 - val_bounding_box_accuracy: 0.5660 - val_class_label_accuracy: 0.2925\n",
            "Epoch 2/25\n",
            "14/14 [==============================] - 10s 757ms/step - loss: 0.6132 - bounding_box_loss: 0.0169 - class_label_loss: 0.5963 - bounding_box_accuracy: 0.7901 - class_label_accuracy: 0.7877 - val_loss: 2.0046 - val_bounding_box_loss: 0.0489 - val_class_label_loss: 1.9557 - val_bounding_box_accuracy: 0.4906 - val_class_label_accuracy: 0.3113\n",
            "Epoch 3/25\n",
            "14/14 [==============================] - 11s 848ms/step - loss: 0.2326 - bounding_box_loss: 0.0123 - class_label_loss: 0.2203 - bounding_box_accuracy: 0.8019 - class_label_accuracy: 0.9387 - val_loss: 2.7678 - val_bounding_box_loss: 0.0495 - val_class_label_loss: 2.7183 - val_bounding_box_accuracy: 0.5283 - val_class_label_accuracy: 0.2453\n",
            "Epoch 4/25\n",
            "14/14 [==============================] - 10s 759ms/step - loss: 0.1411 - bounding_box_loss: 0.0103 - class_label_loss: 0.1307 - bounding_box_accuracy: 0.8208 - class_label_accuracy: 0.9693 - val_loss: 2.9224 - val_bounding_box_loss: 0.0480 - val_class_label_loss: 2.8744 - val_bounding_box_accuracy: 0.5660 - val_class_label_accuracy: 0.2642\n",
            "Epoch 5/25\n",
            "14/14 [==============================] - 10s 762ms/step - loss: 0.1033 - bounding_box_loss: 0.0086 - class_label_loss: 0.0947 - bounding_box_accuracy: 0.8679 - class_label_accuracy: 0.9811 - val_loss: 2.9699 - val_bounding_box_loss: 0.0515 - val_class_label_loss: 2.9185 - val_bounding_box_accuracy: 0.5283 - val_class_label_accuracy: 0.2736\n",
            "Epoch 6/25\n",
            "14/14 [==============================] - 11s 794ms/step - loss: 0.0883 - bounding_box_loss: 0.0066 - class_label_loss: 0.0817 - bounding_box_accuracy: 0.8632 - class_label_accuracy: 0.9811 - val_loss: 3.0673 - val_bounding_box_loss: 0.0484 - val_class_label_loss: 3.0189 - val_bounding_box_accuracy: 0.5472 - val_class_label_accuracy: 0.2925\n",
            "Epoch 7/25\n",
            "14/14 [==============================] - 11s 800ms/step - loss: 0.0530 - bounding_box_loss: 0.0051 - class_label_loss: 0.0479 - bounding_box_accuracy: 0.8750 - class_label_accuracy: 0.9858 - val_loss: 2.9201 - val_bounding_box_loss: 0.0492 - val_class_label_loss: 2.8709 - val_bounding_box_accuracy: 0.5660 - val_class_label_accuracy: 0.3396\n",
            "Epoch 8/25\n",
            "14/14 [==============================] - 10s 763ms/step - loss: 0.0530 - bounding_box_loss: 0.0044 - class_label_loss: 0.0485 - bounding_box_accuracy: 0.8726 - class_label_accuracy: 0.9906 - val_loss: 3.1326 - val_bounding_box_loss: 0.0482 - val_class_label_loss: 3.0844 - val_bounding_box_accuracy: 0.5660 - val_class_label_accuracy: 0.2736\n",
            "Epoch 9/25\n",
            "14/14 [==============================] - 10s 771ms/step - loss: 0.0274 - bounding_box_loss: 0.0035 - class_label_loss: 0.0239 - bounding_box_accuracy: 0.9033 - class_label_accuracy: 0.9953 - val_loss: 3.3477 - val_bounding_box_loss: 0.0489 - val_class_label_loss: 3.2988 - val_bounding_box_accuracy: 0.5472 - val_class_label_accuracy: 0.2925\n",
            "Epoch 10/25\n",
            "14/14 [==============================] - 14s 1s/step - loss: 0.0213 - bounding_box_loss: 0.0027 - class_label_loss: 0.0186 - bounding_box_accuracy: 0.9080 - class_label_accuracy: 0.9882 - val_loss: 3.5099 - val_bounding_box_loss: 0.0493 - val_class_label_loss: 3.4606 - val_bounding_box_accuracy: 0.5472 - val_class_label_accuracy: 0.3113\n",
            "Epoch 11/25\n",
            "14/14 [==============================] - 11s 801ms/step - loss: 0.0289 - bounding_box_loss: 0.0022 - class_label_loss: 0.0267 - bounding_box_accuracy: 0.9340 - class_label_accuracy: 0.9906 - val_loss: 3.5412 - val_bounding_box_loss: 0.0483 - val_class_label_loss: 3.4929 - val_bounding_box_accuracy: 0.5472 - val_class_label_accuracy: 0.2830\n",
            "Epoch 12/25\n",
            "14/14 [==============================] - 11s 789ms/step - loss: 0.0386 - bounding_box_loss: 0.0024 - class_label_loss: 0.0362 - bounding_box_accuracy: 0.9363 - class_label_accuracy: 0.9858 - val_loss: 3.2467 - val_bounding_box_loss: 0.0475 - val_class_label_loss: 3.1992 - val_bounding_box_accuracy: 0.5660 - val_class_label_accuracy: 0.2830\n",
            "Epoch 13/25\n",
            "14/14 [==============================] - 11s 831ms/step - loss: 0.0238 - bounding_box_loss: 0.0023 - class_label_loss: 0.0215 - bounding_box_accuracy: 0.9434 - class_label_accuracy: 0.9906 - val_loss: 3.3842 - val_bounding_box_loss: 0.0498 - val_class_label_loss: 3.3345 - val_bounding_box_accuracy: 0.5660 - val_class_label_accuracy: 0.3113\n",
            "Epoch 14/25\n",
            "14/14 [==============================] - 10s 753ms/step - loss: 0.0205 - bounding_box_loss: 0.0018 - class_label_loss: 0.0187 - bounding_box_accuracy: 0.9410 - class_label_accuracy: 0.9858 - val_loss: 3.6602 - val_bounding_box_loss: 0.0499 - val_class_label_loss: 3.6104 - val_bounding_box_accuracy: 0.5943 - val_class_label_accuracy: 0.3302\n",
            "Epoch 15/25\n",
            "14/14 [==============================] - 10s 787ms/step - loss: 0.0221 - bounding_box_loss: 0.0017 - class_label_loss: 0.0204 - bounding_box_accuracy: 0.9505 - class_label_accuracy: 0.9858 - val_loss: 3.7602 - val_bounding_box_loss: 0.0498 - val_class_label_loss: 3.7105 - val_bounding_box_accuracy: 0.5755 - val_class_label_accuracy: 0.3113\n",
            "Epoch 16/25\n",
            "14/14 [==============================] - 11s 803ms/step - loss: 0.0178 - bounding_box_loss: 0.0013 - class_label_loss: 0.0165 - bounding_box_accuracy: 0.9599 - class_label_accuracy: 0.9906 - val_loss: 3.6187 - val_bounding_box_loss: 0.0488 - val_class_label_loss: 3.5700 - val_bounding_box_accuracy: 0.5849 - val_class_label_accuracy: 0.3302\n",
            "Epoch 17/25\n",
            "14/14 [==============================] - 11s 812ms/step - loss: 0.0183 - bounding_box_loss: 0.0011 - class_label_loss: 0.0172 - bounding_box_accuracy: 0.9599 - class_label_accuracy: 0.9906 - val_loss: 3.7674 - val_bounding_box_loss: 0.0497 - val_class_label_loss: 3.7177 - val_bounding_box_accuracy: 0.5943 - val_class_label_accuracy: 0.3302\n",
            "Epoch 18/25\n",
            "14/14 [==============================] - 10s 773ms/step - loss: 0.0154 - bounding_box_loss: 9.7316e-04 - class_label_loss: 0.0145 - bounding_box_accuracy: 0.9575 - class_label_accuracy: 0.9906 - val_loss: 3.8127 - val_bounding_box_loss: 0.0494 - val_class_label_loss: 3.7632 - val_bounding_box_accuracy: 0.5755 - val_class_label_accuracy: 0.3019\n",
            "Epoch 19/25\n",
            "14/14 [==============================] - 10s 778ms/step - loss: 0.0172 - bounding_box_loss: 9.2779e-04 - class_label_loss: 0.0163 - bounding_box_accuracy: 0.9764 - class_label_accuracy: 0.9929 - val_loss: 3.7004 - val_bounding_box_loss: 0.0491 - val_class_label_loss: 3.6513 - val_bounding_box_accuracy: 0.5566 - val_class_label_accuracy: 0.3019\n",
            "Epoch 20/25\n",
            "14/14 [==============================] - 10s 779ms/step - loss: 0.0200 - bounding_box_loss: 9.0053e-04 - class_label_loss: 0.0191 - bounding_box_accuracy: 0.9741 - class_label_accuracy: 0.9906 - val_loss: 3.6372 - val_bounding_box_loss: 0.0492 - val_class_label_loss: 3.5881 - val_bounding_box_accuracy: 0.5755 - val_class_label_accuracy: 0.3019\n",
            "Epoch 21/25\n",
            "14/14 [==============================] - 10s 779ms/step - loss: 0.0120 - bounding_box_loss: 9.1671e-04 - class_label_loss: 0.0111 - bounding_box_accuracy: 0.9764 - class_label_accuracy: 0.9953 - val_loss: 3.7080 - val_bounding_box_loss: 0.0496 - val_class_label_loss: 3.6583 - val_bounding_box_accuracy: 0.5849 - val_class_label_accuracy: 0.3019\n",
            "Epoch 22/25\n",
            "14/14 [==============================] - 10s 774ms/step - loss: 0.0132 - bounding_box_loss: 8.1531e-04 - class_label_loss: 0.0123 - bounding_box_accuracy: 0.9764 - class_label_accuracy: 0.9976 - val_loss: 3.8395 - val_bounding_box_loss: 0.0505 - val_class_label_loss: 3.7890 - val_bounding_box_accuracy: 0.5849 - val_class_label_accuracy: 0.3113\n",
            "Epoch 23/25\n",
            "14/14 [==============================] - 11s 807ms/step - loss: 0.0135 - bounding_box_loss: 7.1545e-04 - class_label_loss: 0.0128 - bounding_box_accuracy: 0.9764 - class_label_accuracy: 0.9953 - val_loss: 3.9597 - val_bounding_box_loss: 0.0505 - val_class_label_loss: 3.9093 - val_bounding_box_accuracy: 0.5849 - val_class_label_accuracy: 0.3019\n",
            "Epoch 24/25\n",
            "14/14 [==============================] - 11s 806ms/step - loss: 0.0144 - bounding_box_loss: 6.3534e-04 - class_label_loss: 0.0138 - bounding_box_accuracy: 0.9646 - class_label_accuracy: 0.9929 - val_loss: 3.9382 - val_bounding_box_loss: 0.0501 - val_class_label_loss: 3.8880 - val_bounding_box_accuracy: 0.5943 - val_class_label_accuracy: 0.2925\n",
            "Epoch 25/25\n",
            "14/14 [==============================] - 10s 747ms/step - loss: 0.0191 - bounding_box_loss: 7.2266e-04 - class_label_loss: 0.0184 - bounding_box_accuracy: 0.9764 - class_label_accuracy: 0.9906 - val_loss: 3.8215 - val_bounding_box_loss: 0.0495 - val_class_label_loss: 3.7720 - val_bounding_box_accuracy: 0.5660 - val_class_label_accuracy: 0.2830\n",
            "[INFO] Guardando detector...\n",
            "[INFO] Guardando binarizador...\n"
          ]
        }
      ]
    },
    {
      "cell_type": "markdown",
      "source": [
        "## Resultados"
      ],
      "metadata": {
        "id": "VHi7d4pOpxbq"
      }
    },
    {
      "cell_type": "markdown",
      "source": [
        "### Accuracy y Pérdida"
      ],
      "metadata": {
        "id": "_1bSZUoupzEJ"
      }
    },
    {
      "cell_type": "code",
      "source": [
        "# Graficamos la pérdida total, de la etiqueta y del cuadro delimitador\n",
        "lossNames =  [\"loss\", \"class_label_loss\", \"bounding_box_loss\"]\n",
        "N = np.arange(0, num_epochs)\n",
        "plt.style.use(\"ggplot\")\n",
        "(fig, ax) = plt.subplots(3, 1, figsize=(13, 13))\n",
        "# Iteramos para las diferentes pérdidas\n",
        "for (i, l) in enumerate(lossNames):\n",
        "\t# Pérdida para entrenamiento y validación\n",
        "\ttitle = \"Loss for {}\".format(l) if l != \"loss\" else \"Total loss\"\n",
        "\tax[i].set_title(title)\n",
        "\tax[i].set_xlabel(\"Nº Époco\")\n",
        "\tax[i].set_ylabel(\"Pérdida\")\n",
        "\tax[i].plot(N, H.history[l], label=l)\n",
        "\tax[i].plot(N, H.history[\"val_\" + l], label=\"val_\" + l)\n",
        "\tax[i].legend()\n",
        "# Guardamos \n",
        "plt.tight_layout()\n",
        "plotPath = os.path.sep.join([plot_path, \"losses.png\"])\n",
        "plt.savefig(plotPath)\n",
        "plt.close()\n",
        "\n",
        "# Figura para accuracy\n",
        "plt.style.use(\"ggplot\")\n",
        "plt.figure()\n",
        "plt.plot(N, H.history[\"class_label_accuracy\"],\n",
        "\tlabel=\"Accuracy Entrenamiento Etiqueta\")\n",
        "plt.plot(N, H.history[\"val_class_label_accuracy\"],\n",
        "\tlabel=\"Accuracy Validación Etiqueta\")\n",
        "plt.title(\"Accuracy Etiqueta\")\n",
        "plt.xlabel(\"Nº Época\")\n",
        "plt.ylabel(\"Accuracy\")\n",
        "plt.legend(loc=\"lower left\")\n",
        "# save the accuracies plot\n",
        "plotPath = os.path.sep.join([plot_path, \"accs.png\"])\n",
        "plt.savefig(plotPath)"
      ],
      "metadata": {
        "colab": {
          "base_uri": "https://localhost:8080/",
          "height": 301
        },
        "id": "L1DCQ2iZp5NY",
        "outputId": "2efcb242-49b0-4490-ef9f-6ef43b83a558"
      },
      "execution_count": 27,
      "outputs": [
        {
          "output_type": "display_data",
          "data": {
            "image/png": "[encoded data removed]",
            "text/plain": [
              "<Figure size 432x288 with 1 Axes>"
            ]
          },
          "metadata": {}
        }
      ]
    },
    {
      "cell_type": "markdown",
      "source": [
        "## Matriz de Confusión"
      ],
      "metadata": {
        "id": "MjapqJPAtsTI"
      }
    },
    {
      "cell_type": "code",
      "source": [
        "# Vamos a obtener el resto de métricas \n",
        "args = {}\n",
        "args[\"input\"] = f\"{output_path}test_paths.txt\"\n",
        "filetype = mimetypes.guess_type(args[\"input\"])[0]\n",
        "imagePaths = [args[\"input\"]]\n",
        "\n",
        "if \"text/plain\" == filetype:\n",
        "\t# Cargamos la ruta de cada imagen\n",
        "\timagePaths = open(args[\"input\"]).read().strip().split(\"\\n\")\n",
        "\n",
        "L_imagepath = []\n",
        "L_imagename = []\n",
        "L_box = []\n",
        "L_label = []\n",
        "# Recorremos todas las imagenes\n",
        "for imagePath in imagePaths:\n",
        "  image = load_img(imagePath, target_size=(224, 224))\n",
        "  image = img_to_array(image) / 255.0\n",
        "  image = np.expand_dims(image, axis=0)\n",
        "# Predicimos la etiqueta y el cuadro delimitador\n",
        "  (boxPreds, labelPreds) = model.predict(image)\n",
        "  (startX, startY, endX, endY) = boxPreds[0]\n",
        "\n",
        "  # Guardamos la clase con mayor probabilidad\n",
        "  i = np.argmax(labelPreds, axis=1)\n",
        "  label = lb.classes_[i][0]\n",
        "  image = cv2.imread(imagePath)\n",
        "  (h,w) = image.shape[:2]\n",
        "\n",
        "  box = [int(startX * w),int(startY * h),int(endX * w),int(endY * h),]\n",
        "  L_imagepath.append(imagePath)\n",
        "  L_imagename.append(imagePath.split(\"/\")[-1])\n",
        "  L_box.append(box)\n",
        "  L_label.append(label)\n",
        "\n",
        "\n",
        "results = {\"imagepath\":L_imagepath,\"image\":L_imagename,\"box\":L_box,\"class label\":L_label}\n",
        "results = pd.DataFrame(results)"
      ],
      "metadata": {
        "id": "j2OkIwVMtsTJ"
      },
      "execution_count": 28,
      "outputs": []
    },
    {
      "cell_type": "code",
      "source": [
        "y_real = []\n",
        "y_pred = []\n",
        "for i in imagePaths:\n",
        "  imagename = i.split(\"/\")[-1]\n",
        "\n",
        "  y_real.append(df[df[\"image\"]==imagename][\"class label\"].values[0])\n",
        "\n",
        "  y_pred.append(results[results[\"image\"]==imagename][\"class label\"].values[0])"
      ],
      "metadata": {
        "id": "o2OveQ2WtsTL"
      },
      "execution_count": 29,
      "outputs": []
    },
    {
      "cell_type": "code",
      "source": [
        "fig, ax = plt.subplots(1, 1, figsize=(10, 5))\n",
        "plot_heatmap(y_real, y_pred, lb.classes_, ax, \"Matriz de Confusión\")"
      ],
      "metadata": {
        "colab": {
          "base_uri": "https://localhost:8080/",
          "height": 382
        },
        "outputId": "739a2b5f-c214-42ab-d638-c08d298b3f28",
        "id": "IHLu49E0tsTN"
      },
      "execution_count": 30,
      "outputs": [
        {
          "output_type": "display_data",
          "data": {
            "image/png": "[encoded data removed]",
            "text/plain": [
              "<Figure size 720x360 with 1 Axes>"
            ]
          },
          "metadata": {}
        }
      ]
    },
    {
      "cell_type": "markdown",
      "source": [
        "## Matriz de Confusión con IoU"
      ],
      "metadata": {
        "id": "wd_5LgI8tsTO"
      }
    },
    {
      "cell_type": "code",
      "source": [
        "filtered = df_completo.copy()\n",
        "filtered[\"box\"] = filtered[[\"Starting x-coordinate\",\"Starting y-coordinate\",\"Ending x-coordinate\",\"Ending y-coordinate\"]].values.tolist()\n",
        "filtered = filtered[[\"image\", \"box\", \"class label\"]]\n",
        "\n",
        "\n",
        "filtered = filtered.merge(results, how = \"inner\", on = \"image\", suffixes=('_true', '_pred'))\n",
        "filtered[\"iou\"] = pd.Series()\n",
        "for i in range(len(filtered)):\n",
        "  filtered.iloc[i,-1] = bb_intersection_over_union(filtered.iloc[i,1],filtered.iloc[i,4])"
      ],
      "metadata": {
        "colab": {
          "base_uri": "https://localhost:8080/"
        },
        "outputId": "85620443-973d-4122-8de2-01f2c88e7321",
        "id": "4kBtYEAztsTP"
      },
      "execution_count": 31,
      "outputs": [
        {
          "output_type": "stream",
          "name": "stderr",
          "text": [
            "/usr/local/lib/python3.7/dist-packages/ipykernel_launcher.py:7: DeprecationWarning: The default dtype for empty Series will be 'object' instead of 'float64' in a future version. Specify a dtype explicitly to silence this warning.\n",
            "  import sys\n"
          ]
        }
      ]
    },
    {
      "cell_type": "code",
      "source": [
        "imagesnames = [i.split(\"/\")[-1] for i in imagePaths]\n",
        "imagesnames\n",
        "\n",
        "df_iou_max = pd.DataFrame()\n",
        "for i in imagesnames:\n",
        "  otro = filtered[filtered[\"image\"]==i].reset_index(drop=True)\n",
        "  df_iou_max = pd.concat([df_iou_max,pd.DataFrame(otro.iloc[otro[\"iou\"].idxmax()]).T])"
      ],
      "metadata": {
        "id": "GoEyPi3GtsTR"
      },
      "execution_count": 32,
      "outputs": []
    },
    {
      "cell_type": "code",
      "source": [
        "y_real_new = df_iou_max[\"class label_true\"].tolist()\n",
        "\n",
        "y_pred_new = df_iou_max[\"class label_pred\"].tolist()\n",
        "\n",
        "fig, (ax1, ax2) = plt.subplots(1, 2, figsize=(10, 5))\n",
        "plot_heatmap(y_real, y_pred, lb.classes_, ax1, \"Matriz de Confusión\")\n",
        "plot_heatmap(y_real_new, y_pred_new, lb.classes_, ax2, \"Matriz de Confusión con IoU\")\n",
        "plotPath = os.path.sep.join([plot_path, \"confu-matrix.png\"])\n",
        "plt.savefig(plotPath)"
      ],
      "metadata": {
        "colab": {
          "base_uri": "https://localhost:8080/",
          "height": 363
        },
        "outputId": "3d8cbc0e-3567-44e0-f31b-c3925646e20b",
        "id": "_cKoVoN6tsTS"
      },
      "execution_count": 36,
      "outputs": [
        {
          "output_type": "display_data",
          "data": {
            "image/png": "[encoded data removed]",
            "text/plain": [
              "<Figure size 720x360 with 2 Axes>"
            ]
          },
          "metadata": {}
        }
      ]
    },
    {
      "cell_type": "markdown",
      "source": [
        "## Reporte de clasificación"
      ],
      "metadata": {
        "id": "7QdGMr3wtsTS"
      }
    },
    {
      "cell_type": "code",
      "source": [
        "print(classification_report(y_real_new, y_pred_new, digits = 3))"
      ],
      "metadata": {
        "colab": {
          "base_uri": "https://localhost:8080/"
        },
        "outputId": "8edc5362-e626-427a-e928-683e34d3a441",
        "id": "z34OtpG1tsTT"
      },
      "execution_count": 34,
      "outputs": [
        {
          "output_type": "stream",
          "name": "stdout",
          "text": [
            "              precision    recall  f1-score   support\n",
            "\n",
            "      engine      0.171     0.500     0.255        12\n",
            "         fus      0.609     0.341     0.438        41\n",
            "    rear end      0.353     0.316     0.333        19\n",
            "        wing      0.355     0.324     0.338        34\n",
            "\n",
            "    accuracy                          0.349       106\n",
            "   macro avg      0.372     0.370     0.341       106\n",
            "weighted avg      0.432     0.349     0.366       106\n",
            "\n"
          ]
        }
      ]
    },
    {
      "cell_type": "code",
      "source": [
        "print(classification_report(y_real, y_pred, digits = 3))"
      ],
      "metadata": {
        "colab": {
          "base_uri": "https://localhost:8080/"
        },
        "outputId": "9ebb59ab-3c6f-423d-eb7e-537ac163e6a1",
        "id": "DYhRZZABtsTU"
      },
      "execution_count": 35,
      "outputs": [
        {
          "output_type": "stream",
          "name": "stdout",
          "text": [
            "              precision    recall  f1-score   support\n",
            "\n",
            "      engine      0.343     0.364     0.353        33\n",
            "         fus      0.217     0.192     0.204        26\n",
            "    rear end      0.294     0.217     0.250        23\n",
            "        wing      0.258     0.333     0.291        24\n",
            "\n",
            "    accuracy                          0.283       106\n",
            "   macro avg      0.278     0.277     0.274       106\n",
            "weighted avg      0.282     0.283     0.280       106\n",
            "\n"
          ]
        }
      ]
    },
    {
      "cell_type": "code",
      "source": [
        ""
      ],
      "metadata": {
        "id": "9rsX8ifftw3B"
      },
      "execution_count": null,
      "outputs": []
    }
  ]
}